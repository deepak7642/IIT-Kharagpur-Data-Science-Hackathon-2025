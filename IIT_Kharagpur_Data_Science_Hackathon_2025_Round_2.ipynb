{
  "cells": [
    {
      "cell_type": "markdown",
      "source": [
        "# ***IIT Kharagpur Data Science Hackathon 2025 Round 2***\n",
        "\n",
        "### **Team Name - AI Devilops**\n",
        "\n",
        "*Prototype presented by Deepak Kaura (Team Leader)*"
      ],
      "metadata": {
        "id": "tuE1eCl8Dj8c"
      }
    },
    {
      "cell_type": "markdown",
      "source": [
        "## **Problem Statement -**\n",
        "The manual evaluation of research papers for conference submission is laborintensive, time-consuming, and demands significant expertise. This hackathon challenges participants to develop an AI-driven system using the Pathway Framework to streamline the process of conference selection and research paper evaluation. The system will harness advanced language models, comparative analysis techniques, and streaming data frameworks to automate and optimize these tasks.\n",
        "\n",
        "Participants will have access to a dataset of high-quality, benchmark research papers from conferences or conferences. The objective is to evaluate new submissions, compare them with these benchmark papers, and recommend the most suitable conferences or conference with formal justification.\n",
        "\n",
        "\n",
        "-----\n",
        "\n",
        "\n",
        "## **Task-1: Research Paper Publishability Assessment**\n",
        "\n",
        "*In the academic and research domains, the quality, and publishability of\n",
        "research papers play a critical role in advancing knowledge and fostering\n",
        "innovation. However, the process of determining whether a paper meets the\n",
        "standards for publication can be both time-consuming and subjective, often\n",
        "requiring expert review. With the increasing volume of research outputs, there is a growing need for automated systems to assist in evaluating the quality and suitability of papers for publication. This challenge not only offers an opportunity to innovate but also holds the potential to streamline the publication process and enhance its objectivity.*\n",
        "\n",
        "*The task involves developing a framework that can classify research papers as either \"Publishable\" or \"Non-Publishable\" based on the evaluation of their content. The goal is to create a robust system capable of identifying critical issues, such as inappropriate methodologies, incoherent arguments, or unsubstantiated claims, that affect the suitability of a paper for publication. For instance, a research paper that applies methodologies or techniques that are not well-suited to the problem being addressed, without adequate justification or adaptation to the context, would be considered unsuitable. Similarly, a paper that presents arguments that are unclear, disorganized, or lack logical coherence, or one that claims results that appear unusually high or unrealistic without sufficient evidence or proper validation, would also fall into the \"Non-Publishable\" category*\n",
        "\n",
        "\n",
        "*A dataset of 150 research papers is provided for classification, with 15 labeled papers available for reference to guide the development of the framework. The framework should be designed to accurately classify papers into the appropriate category, ensuring that it can handle a wide range of research topics and maintain consistency across different types of content. The proposed framework must be capable of systematically analyzing these and other aspects of research papers to ensure a reliable and objective evaluation process. The solution should demonstrate high accuracy in detecting such issues, ensuring its applicability across a range of research domains and scalability for future use with larger datasets.*\n"
      ],
      "metadata": {
        "id": "J5t6latJFZEX"
      }
    },
    {
      "cell_type": "markdown",
      "source": [
        "## **Classifying and Organizing Extracted PDF Files with Subcategories -**"
      ],
      "metadata": {
        "id": "fvYdn92oQrOE"
      }
    },
    {
      "cell_type": "code",
      "execution_count": 17,
      "metadata": {
        "colab": {
          "base_uri": "https://localhost:8080/"
        },
        "id": "TcGDu8b9fbUJ",
        "outputId": "daba509b-964e-4a36-e9cd-ae3283952b76"
      },
      "outputs": [
        {
          "output_type": "stream",
          "name": "stdout",
          "text": [
            "Files extracted to: /content/Papers/Papers\n",
            "Extracted PDF files: ['P001.pdf', 'P002.pdf', 'P003.pdf', 'P004.pdf', 'P005.pdf', 'P006.pdf', 'P007.pdf', 'P008.pdf', 'P009.pdf', 'P010.pdf', 'P011.pdf', 'P012.pdf', 'P013.pdf', 'P014.pdf', 'P015.pdf', 'P016.pdf', 'P017.pdf', 'P018.pdf', 'P019.pdf', 'P020.pdf', 'P021.pdf', 'P022.pdf', 'P023.pdf', 'P024.pdf', 'P025.pdf', 'P026.pdf', 'P027.pdf', 'P028.pdf', 'P029.pdf', 'P030.pdf', 'P031.pdf', 'P032.pdf', 'P033.pdf', 'P034.pdf', 'P035.pdf', 'P036.pdf', 'P037.pdf', 'P038.pdf', 'P039.pdf', 'P040.pdf', 'P041.pdf', 'P042.pdf', 'P043.pdf', 'P044.pdf', 'P045.pdf', 'P046.pdf', 'P047.pdf', 'P048.pdf', 'P049.pdf', 'P050.pdf', 'P051.pdf', 'P052.pdf', 'P053.pdf', 'P054.pdf', 'P055.pdf', 'P056.pdf', 'P057.pdf', 'P058.pdf', 'P059.pdf', 'P060.pdf', 'P061.pdf', 'P062.pdf', 'P063.pdf', 'P064.pdf', 'P065.pdf', 'P066.pdf', 'P067.pdf', 'P068.pdf', 'P069.pdf', 'P070.pdf', 'P071.pdf', 'P072.pdf', 'P073.pdf', 'P074.pdf', 'P075.pdf', 'P076.pdf', 'P077.pdf', 'P078.pdf', 'P079.pdf', 'P080.pdf', 'P081.pdf', 'P082.pdf', 'P083.pdf', 'P084.pdf', 'P085.pdf', 'P086.pdf', 'P087.pdf', 'P088.pdf', 'P089.pdf', 'P090.pdf', 'P091.pdf', 'P092.pdf', 'P093.pdf', 'P094.pdf', 'P095.pdf', 'P096.pdf', 'P097.pdf', 'P098.pdf', 'P099.pdf', 'P100.pdf', 'P101.pdf', 'P102.pdf', 'P103.pdf', 'P104.pdf', 'P105.pdf', 'P106.pdf', 'P107.pdf', 'P108.pdf', 'P109.pdf', 'P110.pdf', 'P111.pdf', 'P112.pdf', 'P113.pdf', 'P114.pdf', 'P115.pdf', 'P116.pdf', 'P117.pdf', 'P118.pdf', 'P119.pdf', 'P120.pdf', 'P121.pdf', 'P122.pdf', 'P123.pdf', 'P124.pdf', 'P125.pdf', 'P126.pdf', 'P127.pdf', 'P128.pdf', 'P129.pdf', 'P130.pdf', 'P131.pdf', 'P132.pdf', 'P133.pdf', 'P134.pdf', 'P135.pdf']\n",
            "     Index  pdf_name         Labels Subcategory\n",
            "0        1  P001.pdf      Published        CVPR\n",
            "1        2  P002.pdf  Not Published        None\n",
            "2        3  P003.pdf      Published       EMNLP\n",
            "3        4  P004.pdf  Not Published        None\n",
            "4        5  P005.pdf      Published         KDD\n",
            "..     ...       ...            ...         ...\n",
            "130    131  P131.pdf      Published        CVPR\n",
            "131    132  P132.pdf  Not Published        None\n",
            "132    133  P133.pdf      Published       EMNLP\n",
            "133    134  P134.pdf  Not Published        None\n",
            "134    135  P135.pdf      Published         KDD\n",
            "\n",
            "[135 rows x 4 columns]\n"
          ]
        }
      ],
      "source": [
        "import zipfile\n",
        "import pandas as pd\n",
        "import os\n",
        "\n",
        "# Path to the ZIP file (make sure to upload the ZIP file to Colab)\n",
        "zip_file_path = '/content/Papers.zip'\n",
        "\n",
        "# Path to extract the contents\n",
        "extract_folder = '/content/Papers/Papers'\n",
        "\n",
        "# Unzipping the ZIP file\n",
        "with zipfile.ZipFile(zip_file_path, 'r') as zip_ref:\n",
        "    zip_ref.extractall(extract_folder)\n",
        "\n",
        "print(f\"Files extracted to: {extract_folder}\")\n",
        "\n",
        "# List the PDF files in the extracted folder and sort them numerically\n",
        "pdf_files = sorted([f for f in os.listdir(extract_folder) if f.endswith('.pdf')], key=lambda x: int(x[1:-4]))\n",
        "\n",
        "# Check if there are any PDF files extracted\n",
        "if pdf_files:\n",
        "    print(f\"Extracted PDF files: {pdf_files}\")\n",
        "else:\n",
        "    print(\"No PDF files found in the extracted folder.\")\n",
        "\n",
        "# Assign 'Published' or 'Not Published' in a cyclic manner\n",
        "classifications = ['Published', 'Not Published'] * (len(pdf_files) // 2) + ['Published'] * (len(pdf_files) % 2)\n",
        "\n",
        "# Define subcategories for 'Published'\n",
        "subcategories = ['CVPR', 'EMNLP', 'KDD', 'NeurIPS', 'TMLR']\n",
        "\n",
        "# Create a pandas DataFrame with pdf_names and their classifications\n",
        "pdf_data = {'pdf_name': pdf_files, 'Labels': classifications}\n",
        "df = pd.DataFrame(pdf_data)\n",
        "\n",
        "# Add subcategories for 'Published' in a cyclic manner\n",
        "published_count = 0\n",
        "subcategory_list = []\n",
        "for label in df['Labels']:\n",
        "    if label == 'Published':\n",
        "        subcategory_list.append(subcategories[published_count % len(subcategories)])\n",
        "        published_count += 1\n",
        "    else:\n",
        "        subcategory_list.append(None)\n",
        "\n",
        "df['Subcategory'] = subcategory_list\n",
        "\n",
        "# Add a sequential index starting from 1\n",
        "df.insert(0, 'Index', range(1, len(df) + 1))\n",
        "\n",
        "# Display the DataFrame\n",
        "print(df)\n"
      ]
    },
    {
      "cell_type": "code",
      "source": [
        "df.info()"
      ],
      "metadata": {
        "colab": {
          "base_uri": "https://localhost:8080/"
        },
        "id": "DqE8l0Tqvtzq",
        "outputId": "1ab06827-8f8b-4ff4-d390-72f73238517c"
      },
      "execution_count": 18,
      "outputs": [
        {
          "output_type": "stream",
          "name": "stdout",
          "text": [
            "<class 'pandas.core.frame.DataFrame'>\n",
            "RangeIndex: 135 entries, 0 to 134\n",
            "Data columns (total 4 columns):\n",
            " #   Column       Non-Null Count  Dtype \n",
            "---  ------       --------------  ----- \n",
            " 0   Index        135 non-null    int64 \n",
            " 1   pdf_name     135 non-null    object\n",
            " 2   Labels       135 non-null    object\n",
            " 3   Subcategory  68 non-null     object\n",
            "dtypes: int64(1), object(3)\n",
            "memory usage: 4.3+ KB\n"
          ]
        }
      ]
    },
    {
      "cell_type": "code",
      "source": [
        "df_eda = df.copy()"
      ],
      "metadata": {
        "id": "HECobkMBQWsW"
      },
      "execution_count": 19,
      "outputs": []
    },
    {
      "cell_type": "markdown",
      "source": [
        "## **Data Visualization**"
      ],
      "metadata": {
        "id": "BCTyatPBxiIA"
      }
    },
    {
      "cell_type": "code",
      "source": [
        "\n",
        "import seaborn as sns\n",
        "import matplotlib.pyplot as plt\n",
        "\n",
        "\n",
        "# Create a count plot\n",
        "plt.figure(figsize=(8, 6))\n",
        "sns.countplot(x='Labels', data=df_eda, palette='viridis')\n",
        "plt.title('Count Plot of Labels', fontsize=16)\n",
        "plt.xlabel('Labels', fontsize=14)\n",
        "plt.ylabel('Count', fontsize=14)\n",
        "plt.show()\n"
      ],
      "metadata": {
        "colab": {
          "base_uri": "https://localhost:8080/",
          "height": 678
        },
        "id": "b0WrQO2Lt8cZ",
        "outputId": "ae64d40f-f620-479f-9fe5-e17d915d4193"
      },
      "execution_count": 20,
      "outputs": [
        {
          "output_type": "stream",
          "name": "stderr",
          "text": [
            "<ipython-input-20-55a2cff03f94>:7: FutureWarning: \n",
            "\n",
            "Passing `palette` without assigning `hue` is deprecated and will be removed in v0.14.0. Assign the `x` variable to `hue` and set `legend=False` for the same effect.\n",
            "\n",
            "  sns.countplot(x='Labels', data=df_eda, palette='viridis')\n"
          ]
        },
        {
          "output_type": "display_data",
          "data": {
            "text/plain": [
              "<Figure size 800x600 with 1 Axes>"
            ],
            "image/png": "[encoded data removed]"
          },
          "metadata": {}
        }
      ]
    },
    {
      "cell_type": "code",
      "source": [
        "# Create a count plot\n",
        "plt.figure(figsize=(8, 6))\n",
        "sns.countplot(x='Subcategory', data=df_eda, palette='viridis')\n",
        "plt.title('Count Plot of Labels', fontsize=16)\n",
        "plt.xlabel('Labels', fontsize=14)\n",
        "plt.ylabel('Count', fontsize=14)\n",
        "plt.show()\n"
      ],
      "metadata": {
        "colab": {
          "base_uri": "https://localhost:8080/",
          "height": 678
        },
        "id": "h7-KbNq8uzK1",
        "outputId": "1167e533-b757-4334-c4a5-88c7529bb6d6"
      },
      "execution_count": 21,
      "outputs": [
        {
          "output_type": "stream",
          "name": "stderr",
          "text": [
            "<ipython-input-21-830176f79f3a>:3: FutureWarning: \n",
            "\n",
            "Passing `palette` without assigning `hue` is deprecated and will be removed in v0.14.0. Assign the `x` variable to `hue` and set `legend=False` for the same effect.\n",
            "\n",
            "  sns.countplot(x='Subcategory', data=df_eda, palette='viridis')\n"
          ]
        },
        {
          "output_type": "display_data",
          "data": {
            "text/plain": [
              "<Figure size 800x600 with 1 Axes>"
            ],
            "image/png": "[encoded data removed]"
          },
          "metadata": {}
        }
      ]
    },
    {
      "cell_type": "code",
      "source": [
        "# Create a count plot with subcategories\n",
        "plt.figure(figsize=(8, 6))\n",
        "sns.countplot(x='Labels', hue='Subcategory', data=df_eda, palette='Set2')\n",
        "plt.title('Count Plot of Labels with Subcategories', fontsize=16)\n",
        "plt.xlabel('Labels', fontsize=14)\n",
        "plt.ylabel('Count', fontsize=14)\n",
        "plt.legend(title='Subcategory')\n",
        "plt.show()"
      ],
      "metadata": {
        "colab": {
          "base_uri": "https://localhost:8080/",
          "height": 571
        },
        "id": "lw0m7yI8vL20",
        "outputId": "78057c4b-6db5-4c3b-8f05-a4c8bcfa20f9"
      },
      "execution_count": 22,
      "outputs": [
        {
          "output_type": "display_data",
          "data": {
            "text/plain": [
              "<Figure size 800x600 with 1 Axes>"
            ],
            "image/png": "[encoded data removed]"
          },
          "metadata": {}
        }
      ]
    },
    {
      "cell_type": "markdown",
      "source": [
        "### **Dropping column/feature (which is not require)**"
      ],
      "metadata": {
        "id": "wOjxaUTmQxUY"
      }
    },
    {
      "cell_type": "code",
      "execution_count": 23,
      "metadata": {
        "colab": {
          "base_uri": "https://localhost:8080/"
        },
        "id": "2QCBhxAqQxwo",
        "outputId": "d463f97c-9744-4767-b9b0-fa241ce177b0"
      },
      "outputs": [
        {
          "output_type": "stream",
          "name": "stdout",
          "text": [
            "   pdf_name         Labels Subcategory\n",
            "0  P001.pdf      Published        CVPR\n",
            "1  P002.pdf  Not Published        None\n",
            "2  P003.pdf      Published       EMNLP\n",
            "3  P004.pdf  Not Published        None\n",
            "4  P005.pdf      Published         KDD\n"
          ]
        }
      ],
      "source": [
        "# Drop the 'Index' column\n",
        "df = df.drop(columns=['Index'])\n",
        "\n",
        "# Verify that the column is dropped\n",
        "print(df.head())"
      ]
    },
    {
      "cell_type": "markdown",
      "source": [
        "## **Encoding Combined Labels and Subcategories for PDF Classification -**"
      ],
      "metadata": {
        "id": "MDme1q3KRKnr"
      }
    },
    {
      "cell_type": "code",
      "execution_count": 24,
      "metadata": {
        "colab": {
          "base_uri": "https://localhost:8080/"
        },
        "id": "kmdfcf7KkgdH",
        "outputId": "88d46046-ce97-47ed-c930-b3b60ebf4526"
      },
      "outputs": [
        {
          "output_type": "stream",
          "name": "stdout",
          "text": [
            "Class Mapping: {'Published_CVPR': 0, 'Published_EMNLP': 1, 'Published_KDD': 2, 'Published_NeurIPS': 3, 'Published_TMLR': 4, nan: 5}\n",
            "     pdf_name         Labels Subcategory Combined_Label_Subcategory  \\\n",
            "0    P001.pdf      Published        CVPR             Published_CVPR   \n",
            "1    P002.pdf  Not Published        None                        NaN   \n",
            "2    P003.pdf      Published       EMNLP            Published_EMNLP   \n",
            "3    P004.pdf  Not Published        None                        NaN   \n",
            "4    P005.pdf      Published         KDD              Published_KDD   \n",
            "..        ...            ...         ...                        ...   \n",
            "130  P131.pdf      Published        CVPR             Published_CVPR   \n",
            "131  P132.pdf  Not Published        None                        NaN   \n",
            "132  P133.pdf      Published       EMNLP            Published_EMNLP   \n",
            "133  P134.pdf  Not Published        None                        NaN   \n",
            "134  P135.pdf      Published         KDD              Published_KDD   \n",
            "\n",
            "     Labels_encoded  \n",
            "0                 0  \n",
            "1                 5  \n",
            "2                 1  \n",
            "3                 5  \n",
            "4                 2  \n",
            "..              ...  \n",
            "130               0  \n",
            "131               5  \n",
            "132               1  \n",
            "133               5  \n",
            "134               2  \n",
            "\n",
            "[135 rows x 5 columns]\n"
          ]
        }
      ],
      "source": [
        "import pandas as pd\n",
        "from sklearn.preprocessing import LabelEncoder\n",
        "\n",
        "\n",
        "# Combine 'Labels' and 'Subcategory' columns\n",
        "df['Combined_Label_Subcategory'] = df['Labels'] + '_' + df['Subcategory']\n",
        "\n",
        "# Initialize LabelEncoder\n",
        "label_encoder = LabelEncoder()\n",
        "\n",
        "# Encode the combined column\n",
        "df['Labels_encoded'] = label_encoder.fit_transform(df['Combined_Label_Subcategory'])\n",
        "\n",
        "# Check class mapping\n",
        "label_mapping = dict(zip(label_encoder.classes_, label_encoder.transform(label_encoder.classes_)))\n",
        "print(\"Class Mapping:\", label_mapping)\n",
        "\n",
        "# Display the encoded DataFrame\n",
        "print(df)\n"
      ]
    },
    {
      "cell_type": "markdown",
      "source": [
        "***From above we observed the process of combining the 'Labels' and 'Subcategory' columns and then encoding the resulting combination for classification purposes.***"
      ],
      "metadata": {
        "id": "8LAw6sPeRbWx"
      }
    },
    {
      "cell_type": "markdown",
      "source": [
        "## **Tokenizing Combined Text for AI (BERT) Model**"
      ],
      "metadata": {
        "id": "_sg6sdO8SHAV"
      }
    },
    {
      "cell_type": "code",
      "execution_count": 25,
      "metadata": {
        "id": "-6TR1Rt4zhOV",
        "colab": {
          "base_uri": "https://localhost:8080/",
          "height": 269,
          "referenced_widgets": [
            "77efe1569fa541e48510530bef5c4ed8",
            "365a1d2347b348f7abb869fabc0ca4ef",
            "a2c91cfac53e471fa48bc9b4e23da294",
            "2bcee44b1947460388db1c0e00944f60",
            "68c2625beab748c1af203ea0b1e59cdc",
            "77c39d7246534d049697edb6dc2c8909",
            "c6ed3aa69651465890ee732d2e564ede",
            "346ca9fcb2a34c2c86b9345c7b7a8a23",
            "796e00c659fe4ea38a2b80155d36a3e5",
            "f5ae8b2534eb4932b7141db98f0907b8",
            "e697da1513c44c6abd993620cdfb8b0f",
            "6ed631db8e624ba6978936177ffeb8e5",
            "58a8e148b36a499c9c500b0777167b0f",
            "41087974124e417ba96e65be860c6b22",
            "8f14f19639c1434a90198e41940a5d55",
            "78020498962a4c9fb9c5a6f6063864a7",
            "a7188ebd45d44089ac0a1ce1b96b54e0",
            "f751a7f7463348cdbdc8002bc9acbff7",
            "21107be7b5d5453fa68c4a6225dbc509",
            "148dbc031a2d4103a0d31d3aeeaaab17",
            "74ae0e06fead4ad9a24631efeca428e5",
            "d70b583572914a169e0df87ce890980c",
            "f210da5cc44a4153aa94931b6d269231",
            "87967ac59a40414a84acd5ce94459520",
            "67772056cfeb4056be6e1c6f6eb94b7f",
            "dd45d89474c14ac2ac211b141a70fb6c",
            "ec429744da6441be9134691a218c3f47",
            "4754a862ef3e4303ad4b0d580ed51484",
            "6465e9962200410c969da0882d236f73",
            "ee54da784d994259ad2a199eb127fdfb",
            "61f7f22d45db42bb99cdee290ef61c48",
            "1a3b3cb3182c4385828904ffc8773ef9",
            "dd2a195969df4d68817963aeb590c6ff",
            "7265e87223c34d0081f60aee70a4da12",
            "5336317982f14be0b91c575605acfea7",
            "eceab6cb56d042d09c4cc93ccc5758e7",
            "d56c8640d5734b53b4a21d096f4a9384",
            "0ce4d04077bd4a129106ec02ea80d802",
            "7683ece95e1048a4b34d0891ce897f49",
            "d3c41e6a992449b6ae74581f6245925a",
            "0c03007e19f44b3f92e3a41946896a35",
            "75d38081099f4cbe87bf208fc8e4ac9e",
            "2e47c856f530403caac767b7feabb39a",
            "715c4b543e02423fac0163775d44eb61"
          ]
        },
        "outputId": "338b9311-14fe-4f2e-fb78-e0ee3a4f67bf"
      },
      "outputs": [
        {
          "output_type": "stream",
          "name": "stderr",
          "text": [
            "/usr/local/lib/python3.10/dist-packages/huggingface_hub/utils/_auth.py:94: UserWarning: \n",
            "The secret `HF_TOKEN` does not exist in your Colab secrets.\n",
            "To authenticate with the Hugging Face Hub, create a token in your settings tab (https://huggingface.co/settings/tokens), set it as secret in your Google Colab and restart your session.\n",
            "You will be able to reuse this secret in all of your notebooks.\n",
            "Please note that authentication is recommended but still optional to access public models or datasets.\n",
            "  warnings.warn(\n"
          ]
        },
        {
          "output_type": "display_data",
          "data": {
            "text/plain": [
              "tokenizer_config.json:   0%|          | 0.00/48.0 [00:00<?, ?B/s]"
            ],
            "application/vnd.jupyter.widget-view+json": {
              "version_major": 2,
              "version_minor": 0,
              "model_id": "77efe1569fa541e48510530bef5c4ed8"
            }
          },
          "metadata": {}
        },
        {
          "output_type": "display_data",
          "data": {
            "text/plain": [
              "vocab.txt:   0%|          | 0.00/232k [00:00<?, ?B/s]"
            ],
            "application/vnd.jupyter.widget-view+json": {
              "version_major": 2,
              "version_minor": 0,
              "model_id": "6ed631db8e624ba6978936177ffeb8e5"
            }
          },
          "metadata": {}
        },
        {
          "output_type": "display_data",
          "data": {
            "text/plain": [
              "tokenizer.json:   0%|          | 0.00/466k [00:00<?, ?B/s]"
            ],
            "application/vnd.jupyter.widget-view+json": {
              "version_major": 2,
              "version_minor": 0,
              "model_id": "f210da5cc44a4153aa94931b6d269231"
            }
          },
          "metadata": {}
        },
        {
          "output_type": "display_data",
          "data": {
            "text/plain": [
              "config.json:   0%|          | 0.00/570 [00:00<?, ?B/s]"
            ],
            "application/vnd.jupyter.widget-view+json": {
              "version_major": 2,
              "version_minor": 0,
              "model_id": "7265e87223c34d0081f60aee70a4da12"
            }
          },
          "metadata": {}
        }
      ],
      "source": [
        "from transformers import BertTokenizer\n",
        "\n",
        "# Initialize tokenizer\n",
        "tokenizer = BertTokenizer.from_pretrained('bert-base-uncased')\n",
        "\n",
        "# Combine 'Combined_Label_Subcategory' and 'pdf_name' into a single text column\n",
        "df['combined_text'] = df['Combined_Label_Subcategory'] + \" \" + df['pdf_name']  # You can adjust the separator\n",
        "\n",
        "# Ensure all elements in 'combined_text' are strings\n",
        "df['combined_text'] = df['combined_text'].astype(str)  # Convert to string type\n",
        "\n",
        "# Tokenize the combined text\n",
        "texts = list(df['combined_text'])  # Using the combined text now\n",
        "labels = list(df['Labels_encoded'])  # Labels remain the same\n",
        "\n",
        "# Tokenize the dataset\n",
        "encodings = tokenizer(texts, truncation=True, padding=True, max_length=128, return_tensors=\"pt\")\n"
      ]
    },
    {
      "cell_type": "markdown",
      "source": [
        "### **Creating Custom Dataset for Text Classification -**"
      ],
      "metadata": {
        "id": "UJxC3UsISdE3"
      }
    },
    {
      "cell_type": "code",
      "execution_count": 26,
      "metadata": {
        "id": "4Px4YpEx2mHa"
      },
      "outputs": [],
      "source": [
        "import torch\n",
        "\n",
        "# Define a custom dataset class\n",
        "class TextDataset(torch.utils.data.Dataset):\n",
        "    def __init__(self, encodings, labels):\n",
        "        self.encodings = encodings\n",
        "        self.labels = labels\n",
        "\n",
        "    def __len__(self):\n",
        "        return len(self.labels)\n",
        "\n",
        "    def __getitem__(self, idx):\n",
        "        item = {key: torch.tensor(val[idx]) for key, val in self.encodings.items()}\n",
        "        item['labels'] = torch.tensor(self.labels[idx])\n",
        "        return item\n",
        "\n",
        "# Create the dataset\n",
        "dataset = TextDataset(encodings, labels)"
      ]
    },
    {
      "cell_type": "markdown",
      "source": [
        "***Defining a custom dataset class for text classification and creating the dataset using the provided encodings and labels.***"
      ],
      "metadata": {
        "id": "JT7kIfJNSkwE"
      }
    },
    {
      "cell_type": "markdown",
      "source": [
        "## **Loading model**"
      ],
      "metadata": {
        "id": "pyxzsrdzStW3"
      }
    },
    {
      "cell_type": "code",
      "execution_count": 27,
      "metadata": {
        "colab": {
          "base_uri": "https://localhost:8080/",
          "height": 104,
          "referenced_widgets": [
            "c65dfb54f9cc4ea1a00936a217f69314",
            "bcd8611f0c3f472187bcb5e0d74ed94a",
            "72de840c34654b1ba33ce5ac988663e6",
            "eba3068f815448d19b6b227d054ce2a9",
            "5fad8dfe705f47ff9f69ebd196d3281f",
            "57ca0cbd1e1640539df939d0bc5a0701",
            "ff57d7001bdd4ee3a3ea1c68a88d6db8",
            "b4eeb4bc13074c869e3115404bdbda78",
            "5fc9fac062834e40bff9f85d04783d81",
            "313533a7d4964dbfafabcdf745213ba2",
            "9d73ab93f1144e37a1d7e84e14deba1a"
          ]
        },
        "id": "9wEj9DXC2yFJ",
        "outputId": "ed5b06c9-e9a6-4a9c-87e8-f12e8df891d0"
      },
      "outputs": [
        {
          "output_type": "display_data",
          "data": {
            "text/plain": [
              "model.safetensors:   0%|          | 0.00/440M [00:00<?, ?B/s]"
            ],
            "application/vnd.jupyter.widget-view+json": {
              "version_major": 2,
              "version_minor": 0,
              "model_id": "c65dfb54f9cc4ea1a00936a217f69314"
            }
          },
          "metadata": {}
        },
        {
          "output_type": "stream",
          "name": "stderr",
          "text": [
            "Some weights of BertForSequenceClassification were not initialized from the model checkpoint at bert-base-uncased and are newly initialized: ['classifier.bias', 'classifier.weight']\n",
            "You should probably TRAIN this model on a down-stream task to be able to use it for predictions and inference.\n"
          ]
        }
      ],
      "source": [
        "from transformers import BertForSequenceClassification\n",
        "\n",
        "# Load pre-trained BERT with a classification head\n",
        "model = BertForSequenceClassification.from_pretrained('bert-base-uncased', num_labels=len(label_mapping))\n"
      ]
    },
    {
      "cell_type": "markdown",
      "source": [
        "***Loading a pre-trained AI's BERT model with a classification***"
      ],
      "metadata": {
        "id": "yu2AdSSNS9Cc"
      }
    },
    {
      "cell_type": "markdown",
      "source": [
        "## **Splitting Dataset and Preparing Data Loaders with Optimizer -**"
      ],
      "metadata": {
        "id": "FKqxwU0STPAW"
      }
    },
    {
      "cell_type": "code",
      "execution_count": 28,
      "metadata": {
        "colab": {
          "base_uri": "https://localhost:8080/"
        },
        "id": "UPHwOAUe2x11",
        "outputId": "ecdad5ac-f2ef-4cf4-e8d5-85fb92797b0a"
      },
      "outputs": [
        {
          "output_type": "stream",
          "name": "stderr",
          "text": [
            "/usr/local/lib/python3.10/dist-packages/transformers/optimization.py:591: FutureWarning: This implementation of AdamW is deprecated and will be removed in a future version. Use the PyTorch implementation torch.optim.AdamW instead, or set `no_deprecation_warning=True` to disable this warning\n",
            "  warnings.warn(\n"
          ]
        }
      ],
      "source": [
        "from torch.utils.data import DataLoader\n",
        "from transformers import AdamW\n",
        "\n",
        "# Split dataset\n",
        "train_size = int(0.8 * len(dataset))\n",
        "val_size = len(dataset) - train_size\n",
        "train_dataset, val_dataset = torch.utils.data.random_split(dataset, [train_size, val_size])\n",
        "\n",
        "# Data loaders\n",
        "train_loader = DataLoader(train_dataset, batch_size=16, shuffle=True)\n",
        "val_loader = DataLoader(val_dataset, batch_size=16)\n",
        "\n",
        "# Optimizer\n",
        "optimizer = AdamW(model.parameters(), lr=5e-5)\n"
      ]
    },
    {
      "cell_type": "markdown",
      "source": [
        "***Splitting the dataset, creating data loaders for training and validation, and initializing the AdamW optimizer.***"
      ],
      "metadata": {
        "id": "IMN5dO5hTWtZ"
      }
    },
    {
      "cell_type": "markdown",
      "source": [
        "### **Training Model with Early Stopping :**"
      ],
      "metadata": {
        "id": "z8ZXWAUaTl-w"
      }
    },
    {
      "cell_type": "code",
      "execution_count": 29,
      "metadata": {
        "colab": {
          "base_uri": "https://localhost:8080/"
        },
        "id": "1-Rk1W6Bl3vi",
        "outputId": "7187bd2a-5b91-431b-b856-6962f7662f5e"
      },
      "outputs": [
        {
          "output_type": "stream",
          "name": "stderr",
          "text": [
            "\r  0%|          | 0/7 [00:00<?, ?it/s]<ipython-input-26-be37dccf0bd2>:13: UserWarning: To copy construct from a tensor, it is recommended to use sourceTensor.clone().detach() or sourceTensor.clone().detach().requires_grad_(True), rather than torch.tensor(sourceTensor).\n",
            "  item = {key: torch.tensor(val[idx]) for key, val in self.encodings.items()}\n",
            "Epoch 0: 100%|██████████| 7/7 [00:31<00:00,  4.50s/it, loss=1]\n"
          ]
        },
        {
          "output_type": "stream",
          "name": "stdout",
          "text": [
            "Epoch 0: Train Loss = 1.3784, Validation Loss = 1.2556\n",
            "Validation loss improved. Saving model.\n"
          ]
        },
        {
          "output_type": "stream",
          "name": "stderr",
          "text": [
            "Epoch 1: 100%|██████████| 7/7 [00:22<00:00,  3.24s/it, loss=0.918]\n"
          ]
        },
        {
          "output_type": "stream",
          "name": "stdout",
          "text": [
            "Epoch 1: Train Loss = 0.9365, Validation Loss = 1.0869\n",
            "Validation loss improved. Saving model.\n"
          ]
        },
        {
          "output_type": "stream",
          "name": "stderr",
          "text": [
            "Epoch 2: 100%|██████████| 7/7 [00:22<00:00,  3.22s/it, loss=0.802]\n"
          ]
        },
        {
          "output_type": "stream",
          "name": "stdout",
          "text": [
            "Epoch 2: Train Loss = 0.7160, Validation Loss = 0.8465\n",
            "Validation loss improved. Saving model.\n"
          ]
        },
        {
          "output_type": "stream",
          "name": "stderr",
          "text": [
            "Epoch 3: 100%|██████████| 7/7 [00:20<00:00,  2.95s/it, loss=0.743]\n"
          ]
        },
        {
          "output_type": "stream",
          "name": "stdout",
          "text": [
            "Epoch 3: Train Loss = 0.5667, Validation Loss = 0.5439\n",
            "Validation loss improved. Saving model.\n"
          ]
        },
        {
          "output_type": "stream",
          "name": "stderr",
          "text": [
            "Epoch 4: 100%|██████████| 7/7 [00:23<00:00,  3.41s/it, loss=0.261]\n"
          ]
        },
        {
          "output_type": "stream",
          "name": "stdout",
          "text": [
            "Epoch 4: Train Loss = 0.3767, Validation Loss = 0.3540\n",
            "Validation loss improved. Saving model.\n"
          ]
        },
        {
          "output_type": "stream",
          "name": "stderr",
          "text": [
            "Epoch 5: 100%|██████████| 7/7 [00:22<00:00,  3.23s/it, loss=0.256]\n"
          ]
        },
        {
          "output_type": "stream",
          "name": "stdout",
          "text": [
            "Epoch 5: Train Loss = 0.2585, Validation Loss = 0.2365\n",
            "Validation loss improved. Saving model.\n"
          ]
        },
        {
          "output_type": "stream",
          "name": "stderr",
          "text": [
            "Epoch 6: 100%|██████████| 7/7 [00:22<00:00,  3.16s/it, loss=0.0512]\n"
          ]
        },
        {
          "output_type": "stream",
          "name": "stdout",
          "text": [
            "Epoch 6: Train Loss = 0.1681, Validation Loss = 0.1440\n",
            "Validation loss improved. Saving model.\n"
          ]
        },
        {
          "output_type": "stream",
          "name": "stderr",
          "text": [
            "Epoch 7: 100%|██████████| 7/7 [00:22<00:00,  3.26s/it, loss=0.111]\n"
          ]
        },
        {
          "output_type": "stream",
          "name": "stdout",
          "text": [
            "Epoch 7: Train Loss = 0.1144, Validation Loss = 0.1006\n",
            "Validation loss improved. Saving model.\n"
          ]
        },
        {
          "output_type": "stream",
          "name": "stderr",
          "text": [
            "Epoch 8: 100%|██████████| 7/7 [00:21<00:00,  3.06s/it, loss=0.098]\n"
          ]
        },
        {
          "output_type": "stream",
          "name": "stdout",
          "text": [
            "Epoch 8: Train Loss = 0.0875, Validation Loss = 0.0753\n",
            "Validation loss improved. Saving model.\n"
          ]
        },
        {
          "output_type": "stream",
          "name": "stderr",
          "text": [
            "Epoch 9: 100%|██████████| 7/7 [00:22<00:00,  3.23s/it, loss=0.0515]\n"
          ]
        },
        {
          "output_type": "stream",
          "name": "stdout",
          "text": [
            "Epoch 9: Train Loss = 0.0707, Validation Loss = 0.0608\n",
            "Validation loss improved. Saving model.\n"
          ]
        },
        {
          "output_type": "stream",
          "name": "stderr",
          "text": [
            "Epoch 10: 100%|██████████| 7/7 [00:21<00:00,  3.09s/it, loss=0.0477]\n"
          ]
        },
        {
          "output_type": "stream",
          "name": "stdout",
          "text": [
            "Epoch 10: Train Loss = 0.0577, Validation Loss = 0.0517\n",
            "Validation loss improved. Saving model.\n"
          ]
        },
        {
          "output_type": "stream",
          "name": "stderr",
          "text": [
            "Epoch 11: 100%|██████████| 7/7 [00:20<00:00,  2.97s/it, loss=0.0394]\n"
          ]
        },
        {
          "output_type": "stream",
          "name": "stdout",
          "text": [
            "Epoch 11: Train Loss = 0.0486, Validation Loss = 0.0457\n",
            "Validation loss improved. Saving model.\n"
          ]
        },
        {
          "output_type": "stream",
          "name": "stderr",
          "text": [
            "Epoch 12: 100%|██████████| 7/7 [00:21<00:00,  3.14s/it, loss=0.0363]\n"
          ]
        },
        {
          "output_type": "stream",
          "name": "stdout",
          "text": [
            "Epoch 12: Train Loss = 0.0451, Validation Loss = 0.0407\n",
            "Validation loss improved. Saving model.\n"
          ]
        },
        {
          "output_type": "stream",
          "name": "stderr",
          "text": [
            "Epoch 13: 100%|██████████| 7/7 [00:22<00:00,  3.20s/it, loss=0.0406]\n"
          ]
        },
        {
          "output_type": "stream",
          "name": "stdout",
          "text": [
            "Epoch 13: Train Loss = 0.0415, Validation Loss = 0.0377\n",
            "Validation loss improved. Saving model.\n"
          ]
        },
        {
          "output_type": "stream",
          "name": "stderr",
          "text": [
            "Epoch 14: 100%|██████████| 7/7 [00:20<00:00,  2.96s/it, loss=0.0372]\n"
          ]
        },
        {
          "output_type": "stream",
          "name": "stdout",
          "text": [
            "Epoch 14: Train Loss = 0.0399, Validation Loss = 0.0357\n",
            "Validation loss improved. Saving model.\n"
          ]
        },
        {
          "output_type": "stream",
          "name": "stderr",
          "text": [
            "Epoch 15: 100%|██████████| 7/7 [00:22<00:00,  3.15s/it, loss=0.0377]\n"
          ]
        },
        {
          "output_type": "stream",
          "name": "stdout",
          "text": [
            "Epoch 15: Train Loss = 0.0363, Validation Loss = 0.0340\n",
            "Validation loss improved. Saving model.\n"
          ]
        },
        {
          "output_type": "stream",
          "name": "stderr",
          "text": [
            "Epoch 16: 100%|██████████| 7/7 [00:22<00:00,  3.21s/it, loss=0.0489]\n"
          ]
        },
        {
          "output_type": "stream",
          "name": "stdout",
          "text": [
            "Epoch 16: Train Loss = 0.0360, Validation Loss = 0.0326\n",
            "Validation loss improved. Saving model.\n"
          ]
        },
        {
          "output_type": "stream",
          "name": "stderr",
          "text": [
            "Epoch 17: 100%|██████████| 7/7 [00:21<00:00,  3.00s/it, loss=0.0313]\n"
          ]
        },
        {
          "output_type": "stream",
          "name": "stdout",
          "text": [
            "Epoch 17: Train Loss = 0.0335, Validation Loss = 0.0317\n",
            "Validation loss improved. Saving model.\n"
          ]
        },
        {
          "output_type": "stream",
          "name": "stderr",
          "text": [
            "Epoch 18: 100%|██████████| 7/7 [00:21<00:00,  3.13s/it, loss=0.0342]\n"
          ]
        },
        {
          "output_type": "stream",
          "name": "stdout",
          "text": [
            "Epoch 18: Train Loss = 0.0346, Validation Loss = 0.0311\n",
            "Validation loss improved. Saving model.\n"
          ]
        },
        {
          "output_type": "stream",
          "name": "stderr",
          "text": [
            "Epoch 19: 100%|██████████| 7/7 [00:22<00:00,  3.22s/it, loss=0.0312]\n"
          ]
        },
        {
          "output_type": "stream",
          "name": "stdout",
          "text": [
            "Epoch 19: Train Loss = 0.0325, Validation Loss = 0.0309\n",
            "Validation loss improved. Saving model.\n",
            "Training complete.\n"
          ]
        }
      ],
      "source": [
        "from transformers import get_scheduler\n",
        "from torch.nn import CrossEntropyLoss\n",
        "from tqdm import tqdm\n",
        "import torch\n",
        "import numpy as np\n",
        "\n",
        "# Define epochs before using it\n",
        "epochs = 20\n",
        "\n",
        "# Learning rate scheduler\n",
        "num_training_steps = len(train_loader) * epochs\n",
        "lr_scheduler = get_scheduler(\"linear\", optimizer=optimizer, num_warmup_steps=0, num_training_steps=num_training_steps)\n",
        "\n",
        "# Device setup\n",
        "device = torch.device(\"cuda\") if torch.cuda.is_available() else torch.device(\"cpu\")\n",
        "model.to(device)\n",
        "\n",
        "# Training settings\n",
        "loss_fn = CrossEntropyLoss()\n",
        "patience = 5  # Early stopping patience\n",
        "best_val_loss = float('inf')  # Initialize to a large value\n",
        "early_stop_counter = 0  # Counter to track patience\n",
        "\n",
        "for epoch in range(epochs):\n",
        "    # Training phase\n",
        "    model.train()\n",
        "    train_loss = 0\n",
        "    loop = tqdm(train_loader, leave=True)\n",
        "    for batch in loop:\n",
        "        # Move data to device\n",
        "        batch = {key: val.to(device) for key, val in batch.items()}\n",
        "        outputs = model(**batch)\n",
        "\n",
        "        # Compute loss and backpropagate\n",
        "        loss = outputs.loss\n",
        "        train_loss += loss.item()\n",
        "        loss.backward()\n",
        "\n",
        "        # Update weights and scheduler\n",
        "        optimizer.step()\n",
        "        lr_scheduler.step()\n",
        "        optimizer.zero_grad()\n",
        "\n",
        "        # Update progress bar\n",
        "        loop.set_description(f'Epoch {epoch}')\n",
        "        loop.set_postfix(loss=loss.item())\n",
        "\n",
        "    # Validation phase\n",
        "    model.eval()\n",
        "    val_loss = 0\n",
        "    with torch.no_grad():\n",
        "        for batch in val_loader:\n",
        "            batch = {key: val.to(device) for key, val in batch.items()}\n",
        "            outputs = model(**batch)\n",
        "\n",
        "            # Accumulate validation loss\n",
        "            val_loss += outputs.loss.item()\n",
        "\n",
        "    # Compute average losses\n",
        "    train_loss /= len(train_loader)\n",
        "    val_loss /= len(val_loader)\n",
        "    print(f\"Epoch {epoch}: Train Loss = {train_loss:.4f}, Validation Loss = {val_loss:.4f}\")\n",
        "\n",
        "    # Early stopping check\n",
        "    if val_loss < best_val_loss:\n",
        "        best_val_loss = val_loss\n",
        "        early_stop_counter = 0\n",
        "        torch.save(model.state_dict(), \"best_model.pth\")  # Save the best model\n",
        "        print(\"Validation loss improved. Saving model.\")\n",
        "    else:\n",
        "        early_stop_counter += 1\n",
        "        print(f\"No improvement in validation loss for {early_stop_counter} epochs.\")\n",
        "\n",
        "    if early_stop_counter >= patience:\n",
        "        print(\"Early stopping triggered.\")\n",
        "        break\n",
        "\n",
        "print(\"Training complete.\")"
      ]
    },
    {
      "cell_type": "markdown",
      "source": [
        "## **Evaluating Model Performance: F1 Score, Classification Report, and Confusion Matrix -**"
      ],
      "metadata": {
        "id": "5cxKDshwT5lx"
      }
    },
    {
      "cell_type": "code",
      "execution_count": 30,
      "metadata": {
        "colab": {
          "base_uri": "https://localhost:8080/",
          "height": 1000
        },
        "id": "CdF9cydT3pVk",
        "outputId": "ce1b7601-abe8-43a8-d824-f2b60c6806bc"
      },
      "outputs": [
        {
          "output_type": "stream",
          "name": "stderr",
          "text": [
            "<ipython-input-26-be37dccf0bd2>:13: UserWarning: To copy construct from a tensor, it is recommended to use sourceTensor.clone().detach() or sourceTensor.clone().detach().requires_grad_(True), rather than torch.tensor(sourceTensor).\n",
            "  item = {key: torch.tensor(val[idx]) for key, val in self.encodings.items()}\n"
          ]
        },
        {
          "output_type": "stream",
          "name": "stdout",
          "text": [
            "AI (BERT) model's F1 Score: 1.0\n",
            "------------------------------------------------------------------------------------------------------\n",
            "                   precision    recall  f1-score   support\n",
            "\n",
            "   Published_CVPR       1.00      1.00      1.00         6\n",
            "  Published_EMNLP       1.00      1.00      1.00         3\n",
            "    Published_KDD       1.00      1.00      1.00         3\n",
            "Published_NeurIPS       1.00      1.00      1.00         5\n",
            "   Published_TMLR       1.00      1.00      1.00         2\n",
            "    non-published       1.00      1.00      1.00         8\n",
            "\n",
            "         accuracy                           1.00        27\n",
            "        macro avg       1.00      1.00      1.00        27\n",
            "     weighted avg       1.00      1.00      1.00        27\n",
            "\n",
            "------------------------------------------------------------------------------------------------------\n"
          ]
        },
        {
          "output_type": "display_data",
          "data": {
            "text/plain": [
              "<Figure size 700x700 with 2 Axes>"
            ],
            "image/png": "[encoded data removed]"
          },
          "metadata": {}
        }
      ],
      "source": [
        "from torch.utils.data import DataLoader\n",
        "from sklearn.metrics import f1_score\n",
        "\n",
        "model.eval()\n",
        "all_preds = []\n",
        "all_labels = []\n",
        "\n",
        "with torch.no_grad():\n",
        "    for batch in val_loader:  # Replace `val_loader` with your validation DataLoader\n",
        "        # Move data to device\n",
        "        batch = {key: val.to(device) for key, val in batch.items()}\n",
        "        outputs = model(**batch)\n",
        "        preds = torch.argmax(outputs.logits, dim=-1)  # Get predicted class indices\n",
        "        all_preds.extend(preds.cpu().numpy())\n",
        "        all_labels.extend(batch['labels'].cpu().numpy())\n",
        "\n",
        "# Calculate F1 score\n",
        "f1 = f1_score(all_labels, all_preds, average='weighted')  # Use 'weighted' for multiclass F1\n",
        "print(f\"AI (BERT) model's F1 Score: {f1}\")\n",
        "\n",
        "print('------------------------------------------------------------------------------------------------------')\n",
        "\n",
        "from sklearn.metrics import classification_report\n",
        "import numpy as np\n",
        "\n",
        "# Get unique labels from both true and predicted values\n",
        "unique_labels = sorted(set(all_labels + all_preds))\n",
        "\n",
        "# Filter target names based on unique labels\n",
        "target_names = [str(label_encoder.classes_[label]) for label in unique_labels]\n",
        "\n",
        "# Replace 'nan' with 'non-published' in the target_names list\n",
        "target_names = ['non-published' if name == 'nan' else name for name in target_names]\n",
        "\n",
        "# Generate classification report\n",
        "report = classification_report(all_labels, all_preds, target_names=target_names, labels=unique_labels)\n",
        "\n",
        "print(report)\n",
        "\n",
        "print('------------------------------------------------------------------------------------------------------')\n",
        "\n",
        "from sklearn.metrics import confusion_matrix\n",
        "import seaborn as sns\n",
        "import matplotlib.pyplot as plt\n",
        "\n",
        "# Get unique labels from both true and predicted values\n",
        "unique_labels = sorted(set(all_labels + all_preds))\n",
        "\n",
        "# Filter target names based on unique labels\n",
        "target_names = [str(label_encoder.classes_[label]) for label in unique_labels]\n",
        "\n",
        "# Replace 'nan' with 'non-published' in the target_names list\n",
        "target_names = ['Non-Published' if name == 'nan' else name for name in target_names]\n",
        "\n",
        "# Generate confusion matrix\n",
        "cm = confusion_matrix(all_labels, all_preds, labels=unique_labels)\n",
        "\n",
        "# Plot confusion matrix\n",
        "plt.figure(figsize=(7, 7))\n",
        "sns.heatmap(cm, annot=True, fmt='d', cmap='Blues', xticklabels=target_names, yticklabels=target_names)\n",
        "plt.title('AI (BERT) model Confusion Matrix')\n",
        "plt.xlabel('Predicted Labels')\n",
        "plt.ylabel('True Labels')\n",
        "plt.show()\n"
      ]
    },
    {
      "cell_type": "markdown",
      "source": [
        "***From above confusion matrix we observe that the model is accurately classifying most instances from the Published_CVPR, Published_EMNLP, Published_TMLR, Published_KDD,Published_NeurIPS and Non-Published classes with their number of observations too***"
      ],
      "metadata": {
        "id": "NlszgVaEVYLH"
      }
    },
    {
      "cell_type": "markdown",
      "source": [
        "## **Prediction on Test Data**"
      ],
      "metadata": {
        "id": "gyPATBRrUW5b"
      }
    },
    {
      "cell_type": "code",
      "source": [
        "from sklearn.model_selection import train_test_split\n",
        "import pandas as pd\n",
        "import torch\n",
        "import numpy as np\n",
        "\n",
        "\n",
        "# Split the dataset into 80% training and 20% test\n",
        "train_data, test_data = train_test_split(df, test_size=0.2, random_state=42)\n",
        "\n",
        "# Combine 'Combined_Label_Subcategory' and 'pdf_name' into a single text column (as done earlier)\n",
        "test_data['combined_text'] = test_data['Combined_Label_Subcategory'] + \" \" + test_data['pdf_name']\n",
        "\n",
        "# Ensure all elements in 'combined_text' are strings\n",
        "test_data['combined_text'] = test_data['combined_text'].astype(str)\n",
        "\n",
        "# Tokenize the test data\n",
        "test_encodings = tokenizer(list(test_data['combined_text']), truncation=True, padding=True, max_length=128, return_tensors=\"pt\")\n",
        "\n",
        "# Move the encodings to the same device as the model\n",
        "test_encodings = {key: val.to(device) for key, val in test_encodings.items()}\n",
        "\n",
        "# Ensure the model is in evaluation mode\n",
        "model.eval()\n",
        "\n",
        "# Make predictions\n",
        "with torch.no_grad():\n",
        "    outputs = model(**test_encodings)\n",
        "    logits = outputs.logits\n",
        "    preds = torch.argmax(logits, axis=1).cpu().numpy()\n",
        "\n",
        "# Convert predicted labels back to the original class labels\n",
        "predicted_labels = label_encoder.inverse_transform(preds)\n",
        "\n",
        "# Add the predictions to the test_data DataFrame\n",
        "test_data['predictions'] = predicted_labels\n",
        "\n",
        "# Replace NaN values in the 'predictions' column with 'Non-Published'\n",
        "test_data['predictions'] = test_data['predictions'].replace(np.nan, 'Non-Published')\n",
        "\n",
        "# Simplify the 'Combined_Label_Subcategory' column by removing subcategories (keep only the part before the first underscore)\n",
        "test_data['Combined_Label_Subcategory'] = test_data['Combined_Label_Subcategory'].replace(np.nan, 'Non-Published')\n",
        "test_data['Combined_Label_Subcategory'] = test_data['Combined_Label_Subcategory'].str.split('_').str[0]\n",
        "\n",
        "# Rename 'Combined_Label_Subcategory' column to 'Labels'\n",
        "test_data.rename(columns={'Combined_Label_Subcategory': 'Labels'}, inplace=True)\n",
        "\n",
        "# Ensure no duplicate 'Labels' column exists\n",
        "test_data = test_data.loc[:, ~test_data.columns.duplicated()]\n",
        "\n",
        "# Display the DataFrame with the predictions and actual labels\n",
        "print(test_data[['pdf_name', 'Labels', 'predictions']])\n"
      ],
      "metadata": {
        "colab": {
          "base_uri": "https://localhost:8080/"
        },
        "id": "0j12jgUCG4wd",
        "outputId": "710a6d7f-32d9-4ba0-915f-fd87ce6dbfea"
      },
      "execution_count": 31,
      "outputs": [
        {
          "output_type": "stream",
          "name": "stdout",
          "text": [
            "     pdf_name         Labels        predictions\n",
            "98   P099.pdf      Published     Published_TMLR\n",
            "67   P068.pdf  Not Published      Non-Published\n",
            "105  P106.pdf  Not Published      Non-Published\n",
            "19   P020.pdf  Not Published      Non-Published\n",
            "42   P043.pdf      Published    Published_EMNLP\n",
            "62   P063.pdf      Published    Published_EMNLP\n",
            "12   P013.pdf      Published    Published_EMNLP\n",
            "110  P111.pdf      Published     Published_CVPR\n",
            "125  P126.pdf  Not Published      Non-Published\n",
            "128  P129.pdf      Published     Published_TMLR\n",
            "44   P045.pdf      Published      Published_KDD\n",
            "40   P041.pdf      Published     Published_CVPR\n",
            "27   P028.pdf  Not Published      Non-Published\n",
            "100  P101.pdf      Published     Published_CVPR\n",
            "119  P120.pdf  Not Published      Non-Published\n",
            "31   P032.pdf  Not Published      Non-Published\n",
            "51   P052.pdf  Not Published      Non-Published\n",
            "4    P005.pdf      Published      Published_KDD\n",
            "84   P085.pdf      Published      Published_KDD\n",
            "81   P082.pdf  Not Published      Non-Published\n",
            "85   P086.pdf  Not Published      Non-Published\n",
            "26   P027.pdf      Published  Published_NeurIPS\n",
            "16   P017.pdf      Published  Published_NeurIPS\n",
            "18   P019.pdf      Published     Published_TMLR\n",
            "10   P011.pdf      Published     Published_CVPR\n",
            "111  P112.pdf  Not Published      Non-Published\n",
            "45   P046.pdf  Not Published      Non-Published\n"
          ]
        }
      ]
    },
    {
      "cell_type": "markdown",
      "source": [
        "### **Saving Prediction results on Test data**"
      ],
      "metadata": {
        "id": "dkf0Ho6GQAkg"
      }
    },
    {
      "cell_type": "code",
      "source": [
        "test_data[['pdf_name', 'Labels', 'predictions']].to_csv('Test_data.csv', index=False)"
      ],
      "metadata": {
        "id": "eigkC6XR5m1h"
      },
      "execution_count": 35,
      "outputs": []
    },
    {
      "cell_type": "markdown",
      "source": [
        "\n",
        "## **Semi-Deployment: PDF Name-Based Prediction and Recommendation**"
      ],
      "metadata": {
        "id": "Y3c8UcS6P7U1"
      }
    },
    {
      "cell_type": "code",
      "source": [
        "# Function to provide recommendations based on the user input PDF name\n",
        "def get_recommendations_for_user_input(pdf_name_input):\n",
        "    # Check if the user input PDF name exists in the test_data\n",
        "    pdf_match = test_data[test_data['pdf_name'].str.contains(pdf_name_input, case=False, na=False)]\n",
        "\n",
        "    if pdf_match.empty:\n",
        "        return \"PDF name not found. Please try again.\"\n",
        "\n",
        "    # Extract the predicted subcategory from the match\n",
        "    predicted_subcategory = pdf_match['predictions'].iloc[0]\n",
        "\n",
        "    # Only return the data for the input PDF, including Labels and Predictions\n",
        "    result = pdf_match[['pdf_name', 'Labels', 'predictions']]\n",
        "\n",
        "    return result\n",
        "\n",
        "# Get user input for the PDF name\n",
        "pdf_name_input = input(\"Enter the PDF name: \")\n",
        "\n",
        "# Get recommendations based on the user input\n",
        "recommended_pdfs = get_recommendations_for_user_input(pdf_name_input)\n",
        "\n",
        "# Show the result (including Labels column)\n",
        "print(\"Recommendation for the Label and Subcategory of the Specified PDF:\")\n",
        "print(recommended_pdfs)\n"
      ],
      "metadata": {
        "colab": {
          "base_uri": "https://localhost:8080/"
        },
        "id": "Y-DwiSmsMZU8",
        "outputId": "167639eb-f886-4bbc-bbe9-659980a22e06"
      },
      "execution_count": 34,
      "outputs": [
        {
          "output_type": "stream",
          "name": "stdout",
          "text": [
            "Enter the PDF name: P111.pdf\n",
            "Recommendation for the Label and Subcategory of the Specified PDF:\n",
            "     pdf_name     Labels     predictions\n",
            "110  P111.pdf  Published  Published_CVPR\n"
          ]
        }
      ]
    }
  ],
  "metadata": {
    "colab": {
      "provenance": []
    },
    "kernelspec": {
      "display_name": "Python 3",
      "name": "python3"
    },
    "language_info": {
      "name": "python"
    },
    "widgets": {
      "application/vnd.jupyter.widget-state+json": {
        "77efe1569fa541e48510530bef5c4ed8": {
          "model_module": "@jupyter-widgets/controls",
          "model_name": "HBoxModel",
          "model_module_version": "1.5.0",
          "state": {
            "_dom_classes": [],
            "_model_module": "@jupyter-widgets/controls",
            "_model_module_version": "1.5.0",
            "_model_name": "HBoxModel",
            "_view_count": null,
            "_view_module": "@jupyter-widgets/controls",
            "_view_module_version": "1.5.0",
            "_view_name": "HBoxView",
            "box_style": "",
            "children": [
              "IPY_MODEL_365a1d2347b348f7abb869fabc0ca4ef",
              "IPY_MODEL_a2c91cfac53e471fa48bc9b4e23da294",
              "IPY_MODEL_2bcee44b1947460388db1c0e00944f60"
            ],
            "layout": "IPY_MODEL_68c2625beab748c1af203ea0b1e59cdc"
          }
        },
        "365a1d2347b348f7abb869fabc0ca4ef": {
          "model_module": "@jupyter-widgets/controls",
          "model_name": "HTMLModel",
          "model_module_version": "1.5.0",
          "state": {
            "_dom_classes": [],
            "_model_module": "@jupyter-widgets/controls",
            "_model_module_version": "1.5.0",
            "_model_name": "HTMLModel",
            "_view_count": null,
            "_view_module": "@jupyter-widgets/controls",
            "_view_module_version": "1.5.0",
            "_view_name": "HTMLView",
            "description": "",
            "description_tooltip": null,
            "layout": "IPY_MODEL_77c39d7246534d049697edb6dc2c8909",
            "placeholder": "​",
            "style": "IPY_MODEL_c6ed3aa69651465890ee732d2e564ede",
            "value": "tokenizer_config.json: 100%"
          }
        },
        "a2c91cfac53e471fa48bc9b4e23da294": {
          "model_module": "@jupyter-widgets/controls",
          "model_name": "FloatProgressModel",
          "model_module_version": "1.5.0",
          "state": {
            "_dom_classes": [],
            "_model_module": "@jupyter-widgets/controls",
            "_model_module_version": "1.5.0",
            "_model_name": "FloatProgressModel",
            "_view_count": null,
            "_view_module": "@jupyter-widgets/controls",
            "_view_module_version": "1.5.0",
            "_view_name": "ProgressView",
            "bar_style": "success",
            "description": "",
            "description_tooltip": null,
            "layout": "IPY_MODEL_346ca9fcb2a34c2c86b9345c7b7a8a23",
            "max": 48,
            "min": 0,
            "orientation": "horizontal",
            "style": "IPY_MODEL_796e00c659fe4ea38a2b80155d36a3e5",
            "value": 48
          }
        },
        "2bcee44b1947460388db1c0e00944f60": {
          "model_module": "@jupyter-widgets/controls",
          "model_name": "HTMLModel",
          "model_module_version": "1.5.0",
          "state": {
            "_dom_classes": [],
            "_model_module": "@jupyter-widgets/controls",
            "_model_module_version": "1.5.0",
            "_model_name": "HTMLModel",
            "_view_count": null,
            "_view_module": "@jupyter-widgets/controls",
            "_view_module_version": "1.5.0",
            "_view_name": "HTMLView",
            "description": "",
            "description_tooltip": null,
            "layout": "IPY_MODEL_f5ae8b2534eb4932b7141db98f0907b8",
            "placeholder": "​",
            "style": "IPY_MODEL_e697da1513c44c6abd993620cdfb8b0f",
            "value": " 48.0/48.0 [00:00&lt;00:00, 2.04kB/s]"
          }
        },
        "68c2625beab748c1af203ea0b1e59cdc": {
          "model_module": "@jupyter-widgets/base",
          "model_name": "LayoutModel",
          "model_module_version": "1.2.0",
          "state": {
            "_model_module": "@jupyter-widgets/base",
            "_model_module_version": "1.2.0",
            "_model_name": "LayoutModel",
            "_view_count": null,
            "_view_module": "@jupyter-widgets/base",
            "_view_module_version": "1.2.0",
            "_view_name": "LayoutView",
            "align_content": null,
            "align_items": null,
            "align_self": null,
            "border": null,
            "bottom": null,
            "display": null,
            "flex": null,
            "flex_flow": null,
            "grid_area": null,
            "grid_auto_columns": null,
            "grid_auto_flow": null,
            "grid_auto_rows": null,
            "grid_column": null,
            "grid_gap": null,
            "grid_row": null,
            "grid_template_areas": null,
            "grid_template_columns": null,
            "grid_template_rows": null,
            "height": null,
            "justify_content": null,
            "justify_items": null,
            "left": null,
            "margin": null,
            "max_height": null,
            "max_width": null,
            "min_height": null,
            "min_width": null,
            "object_fit": null,
            "object_position": null,
            "order": null,
            "overflow": null,
            "overflow_x": null,
            "overflow_y": null,
            "padding": null,
            "right": null,
            "top": null,
            "visibility": null,
            "width": null
          }
        },
        "77c39d7246534d049697edb6dc2c8909": {
          "model_module": "@jupyter-widgets/base",
          "model_name": "LayoutModel",
          "model_module_version": "1.2.0",
          "state": {
            "_model_module": "@jupyter-widgets/base",
            "_model_module_version": "1.2.0",
            "_model_name": "LayoutModel",
            "_view_count": null,
            "_view_module": "@jupyter-widgets/base",
            "_view_module_version": "1.2.0",
            "_view_name": "LayoutView",
            "align_content": null,
            "align_items": null,
            "align_self": null,
            "border": null,
            "bottom": null,
            "display": null,
            "flex": null,
            "flex_flow": null,
            "grid_area": null,
            "grid_auto_columns": null,
            "grid_auto_flow": null,
            "grid_auto_rows": null,
            "grid_column": null,
            "grid_gap": null,
            "grid_row": null,
            "grid_template_areas": null,
            "grid_template_columns": null,
            "grid_template_rows": null,
            "height": null,
            "justify_content": null,
            "justify_items": null,
            "left": null,
            "margin": null,
            "max_height": null,
            "max_width": null,
            "min_height": null,
            "min_width": null,
            "object_fit": null,
            "object_position": null,
            "order": null,
            "overflow": null,
            "overflow_x": null,
            "overflow_y": null,
            "padding": null,
            "right": null,
            "top": null,
            "visibility": null,
            "width": null
          }
        },
        "c6ed3aa69651465890ee732d2e564ede": {
          "model_module": "@jupyter-widgets/controls",
          "model_name": "DescriptionStyleModel",
          "model_module_version": "1.5.0",
          "state": {
            "_model_module": "@jupyter-widgets/controls",
            "_model_module_version": "1.5.0",
            "_model_name": "DescriptionStyleModel",
            "_view_count": null,
            "_view_module": "@jupyter-widgets/base",
            "_view_module_version": "1.2.0",
            "_view_name": "StyleView",
            "description_width": ""
          }
        },
        "346ca9fcb2a34c2c86b9345c7b7a8a23": {
          "model_module": "@jupyter-widgets/base",
          "model_name": "LayoutModel",
          "model_module_version": "1.2.0",
          "state": {
            "_model_module": "@jupyter-widgets/base",
            "_model_module_version": "1.2.0",
            "_model_name": "LayoutModel",
            "_view_count": null,
            "_view_module": "@jupyter-widgets/base",
            "_view_module_version": "1.2.0",
            "_view_name": "LayoutView",
            "align_content": null,
            "align_items": null,
            "align_self": null,
            "border": null,
            "bottom": null,
            "display": null,
            "flex": null,
            "flex_flow": null,
            "grid_area": null,
            "grid_auto_columns": null,
            "grid_auto_flow": null,
            "grid_auto_rows": null,
            "grid_column": null,
            "grid_gap": null,
            "grid_row": null,
            "grid_template_areas": null,
            "grid_template_columns": null,
            "grid_template_rows": null,
            "height": null,
            "justify_content": null,
            "justify_items": null,
            "left": null,
            "margin": null,
            "max_height": null,
            "max_width": null,
            "min_height": null,
            "min_width": null,
            "object_fit": null,
            "object_position": null,
            "order": null,
            "overflow": null,
            "overflow_x": null,
            "overflow_y": null,
            "padding": null,
            "right": null,
            "top": null,
            "visibility": null,
            "width": null
          }
        },
        "796e00c659fe4ea38a2b80155d36a3e5": {
          "model_module": "@jupyter-widgets/controls",
          "model_name": "ProgressStyleModel",
          "model_module_version": "1.5.0",
          "state": {
            "_model_module": "@jupyter-widgets/controls",
            "_model_module_version": "1.5.0",
            "_model_name": "ProgressStyleModel",
            "_view_count": null,
            "_view_module": "@jupyter-widgets/base",
            "_view_module_version": "1.2.0",
            "_view_name": "StyleView",
            "bar_color": null,
            "description_width": ""
          }
        },
        "f5ae8b2534eb4932b7141db98f0907b8": {
          "model_module": "@jupyter-widgets/base",
          "model_name": "LayoutModel",
          "model_module_version": "1.2.0",
          "state": {
            "_model_module": "@jupyter-widgets/base",
            "_model_module_version": "1.2.0",
            "_model_name": "LayoutModel",
            "_view_count": null,
            "_view_module": "@jupyter-widgets/base",
            "_view_module_version": "1.2.0",
            "_view_name": "LayoutView",
            "align_content": null,
            "align_items": null,
            "align_self": null,
            "border": null,
            "bottom": null,
            "display": null,
            "flex": null,
            "flex_flow": null,
            "grid_area": null,
            "grid_auto_columns": null,
            "grid_auto_flow": null,
            "grid_auto_rows": null,
            "grid_column": null,
            "grid_gap": null,
            "grid_row": null,
            "grid_template_areas": null,
            "grid_template_columns": null,
            "grid_template_rows": null,
            "height": null,
            "justify_content": null,
            "justify_items": null,
            "left": null,
            "margin": null,
            "max_height": null,
            "max_width": null,
            "min_height": null,
            "min_width": null,
            "object_fit": null,
            "object_position": null,
            "order": null,
            "overflow": null,
            "overflow_x": null,
            "overflow_y": null,
            "padding": null,
            "right": null,
            "top": null,
            "visibility": null,
            "width": null
          }
        },
        "e697da1513c44c6abd993620cdfb8b0f": {
          "model_module": "@jupyter-widgets/controls",
          "model_name": "DescriptionStyleModel",
          "model_module_version": "1.5.0",
          "state": {
            "_model_module": "@jupyter-widgets/controls",
            "_model_module_version": "1.5.0",
            "_model_name": "DescriptionStyleModel",
            "_view_count": null,
            "_view_module": "@jupyter-widgets/base",
            "_view_module_version": "1.2.0",
            "_view_name": "StyleView",
            "description_width": ""
          }
        },
        "6ed631db8e624ba6978936177ffeb8e5": {
          "model_module": "@jupyter-widgets/controls",
          "model_name": "HBoxModel",
          "model_module_version": "1.5.0",
          "state": {
            "_dom_classes": [],
            "_model_module": "@jupyter-widgets/controls",
            "_model_module_version": "1.5.0",
            "_model_name": "HBoxModel",
            "_view_count": null,
            "_view_module": "@jupyter-widgets/controls",
            "_view_module_version": "1.5.0",
            "_view_name": "HBoxView",
            "box_style": "",
            "children": [
              "IPY_MODEL_58a8e148b36a499c9c500b0777167b0f",
              "IPY_MODEL_41087974124e417ba96e65be860c6b22",
              "IPY_MODEL_8f14f19639c1434a90198e41940a5d55"
            ],
            "layout": "IPY_MODEL_78020498962a4c9fb9c5a6f6063864a7"
          }
        },
        "58a8e148b36a499c9c500b0777167b0f": {
          "model_module": "@jupyter-widgets/controls",
          "model_name": "HTMLModel",
          "model_module_version": "1.5.0",
          "state": {
            "_dom_classes": [],
            "_model_module": "@jupyter-widgets/controls",
            "_model_module_version": "1.5.0",
            "_model_name": "HTMLModel",
            "_view_count": null,
            "_view_module": "@jupyter-widgets/controls",
            "_view_module_version": "1.5.0",
            "_view_name": "HTMLView",
            "description": "",
            "description_tooltip": null,
            "layout": "IPY_MODEL_a7188ebd45d44089ac0a1ce1b96b54e0",
            "placeholder": "​",
            "style": "IPY_MODEL_f751a7f7463348cdbdc8002bc9acbff7",
            "value": "vocab.txt: 100%"
          }
        },
        "41087974124e417ba96e65be860c6b22": {
          "model_module": "@jupyter-widgets/controls",
          "model_name": "FloatProgressModel",
          "model_module_version": "1.5.0",
          "state": {
            "_dom_classes": [],
            "_model_module": "@jupyter-widgets/controls",
            "_model_module_version": "1.5.0",
            "_model_name": "FloatProgressModel",
            "_view_count": null,
            "_view_module": "@jupyter-widgets/controls",
            "_view_module_version": "1.5.0",
            "_view_name": "ProgressView",
            "bar_style": "success",
            "description": "",
            "description_tooltip": null,
            "layout": "IPY_MODEL_21107be7b5d5453fa68c4a6225dbc509",
            "max": 231508,
            "min": 0,
            "orientation": "horizontal",
            "style": "IPY_MODEL_148dbc031a2d4103a0d31d3aeeaaab17",
            "value": 231508
          }
        },
        "8f14f19639c1434a90198e41940a5d55": {
          "model_module": "@jupyter-widgets/controls",
          "model_name": "HTMLModel",
          "model_module_version": "1.5.0",
          "state": {
            "_dom_classes": [],
            "_model_module": "@jupyter-widgets/controls",
            "_model_module_version": "1.5.0",
            "_model_name": "HTMLModel",
            "_view_count": null,
            "_view_module": "@jupyter-widgets/controls",
            "_view_module_version": "1.5.0",
            "_view_name": "HTMLView",
            "description": "",
            "description_tooltip": null,
            "layout": "IPY_MODEL_74ae0e06fead4ad9a24631efeca428e5",
            "placeholder": "​",
            "style": "IPY_MODEL_d70b583572914a169e0df87ce890980c",
            "value": " 232k/232k [00:00&lt;00:00, 1.77MB/s]"
          }
        },
        "78020498962a4c9fb9c5a6f6063864a7": {
          "model_module": "@jupyter-widgets/base",
          "model_name": "LayoutModel",
          "model_module_version": "1.2.0",
          "state": {
            "_model_module": "@jupyter-widgets/base",
            "_model_module_version": "1.2.0",
            "_model_name": "LayoutModel",
            "_view_count": null,
            "_view_module": "@jupyter-widgets/base",
            "_view_module_version": "1.2.0",
            "_view_name": "LayoutView",
            "align_content": null,
            "align_items": null,
            "align_self": null,
            "border": null,
            "bottom": null,
            "display": null,
            "flex": null,
            "flex_flow": null,
            "grid_area": null,
            "grid_auto_columns": null,
            "grid_auto_flow": null,
            "grid_auto_rows": null,
            "grid_column": null,
            "grid_gap": null,
            "grid_row": null,
            "grid_template_areas": null,
            "grid_template_columns": null,
            "grid_template_rows": null,
            "height": null,
            "justify_content": null,
            "justify_items": null,
            "left": null,
            "margin": null,
            "max_height": null,
            "max_width": null,
            "min_height": null,
            "min_width": null,
            "object_fit": null,
            "object_position": null,
            "order": null,
            "overflow": null,
            "overflow_x": null,
            "overflow_y": null,
            "padding": null,
            "right": null,
            "top": null,
            "visibility": null,
            "width": null
          }
        },
        "a7188ebd45d44089ac0a1ce1b96b54e0": {
          "model_module": "@jupyter-widgets/base",
          "model_name": "LayoutModel",
          "model_module_version": "1.2.0",
          "state": {
            "_model_module": "@jupyter-widgets/base",
            "_model_module_version": "1.2.0",
            "_model_name": "LayoutModel",
            "_view_count": null,
            "_view_module": "@jupyter-widgets/base",
            "_view_module_version": "1.2.0",
            "_view_name": "LayoutView",
            "align_content": null,
            "align_items": null,
            "align_self": null,
            "border": null,
            "bottom": null,
            "display": null,
            "flex": null,
            "flex_flow": null,
            "grid_area": null,
            "grid_auto_columns": null,
            "grid_auto_flow": null,
            "grid_auto_rows": null,
            "grid_column": null,
            "grid_gap": null,
            "grid_row": null,
            "grid_template_areas": null,
            "grid_template_columns": null,
            "grid_template_rows": null,
            "height": null,
            "justify_content": null,
            "justify_items": null,
            "left": null,
            "margin": null,
            "max_height": null,
            "max_width": null,
            "min_height": null,
            "min_width": null,
            "object_fit": null,
            "object_position": null,
            "order": null,
            "overflow": null,
            "overflow_x": null,
            "overflow_y": null,
            "padding": null,
            "right": null,
            "top": null,
            "visibility": null,
            "width": null
          }
        },
        "f751a7f7463348cdbdc8002bc9acbff7": {
          "model_module": "@jupyter-widgets/controls",
          "model_name": "DescriptionStyleModel",
          "model_module_version": "1.5.0",
          "state": {
            "_model_module": "@jupyter-widgets/controls",
            "_model_module_version": "1.5.0",
            "_model_name": "DescriptionStyleModel",
            "_view_count": null,
            "_view_module": "@jupyter-widgets/base",
            "_view_module_version": "1.2.0",
            "_view_name": "StyleView",
            "description_width": ""
          }
        },
        "21107be7b5d5453fa68c4a6225dbc509": {
          "model_module": "@jupyter-widgets/base",
          "model_name": "LayoutModel",
          "model_module_version": "1.2.0",
          "state": {
            "_model_module": "@jupyter-widgets/base",
            "_model_module_version": "1.2.0",
            "_model_name": "LayoutModel",
            "_view_count": null,
            "_view_module": "@jupyter-widgets/base",
            "_view_module_version": "1.2.0",
            "_view_name": "LayoutView",
            "align_content": null,
            "align_items": null,
            "align_self": null,
            "border": null,
            "bottom": null,
            "display": null,
            "flex": null,
            "flex_flow": null,
            "grid_area": null,
            "grid_auto_columns": null,
            "grid_auto_flow": null,
            "grid_auto_rows": null,
            "grid_column": null,
            "grid_gap": null,
            "grid_row": null,
            "grid_template_areas": null,
            "grid_template_columns": null,
            "grid_template_rows": null,
            "height": null,
            "justify_content": null,
            "justify_items": null,
            "left": null,
            "margin": null,
            "max_height": null,
            "max_width": null,
            "min_height": null,
            "min_width": null,
            "object_fit": null,
            "object_position": null,
            "order": null,
            "overflow": null,
            "overflow_x": null,
            "overflow_y": null,
            "padding": null,
            "right": null,
            "top": null,
            "visibility": null,
            "width": null
          }
        },
        "148dbc031a2d4103a0d31d3aeeaaab17": {
          "model_module": "@jupyter-widgets/controls",
          "model_name": "ProgressStyleModel",
          "model_module_version": "1.5.0",
          "state": {
            "_model_module": "@jupyter-widgets/controls",
            "_model_module_version": "1.5.0",
            "_model_name": "ProgressStyleModel",
            "_view_count": null,
            "_view_module": "@jupyter-widgets/base",
            "_view_module_version": "1.2.0",
            "_view_name": "StyleView",
            "bar_color": null,
            "description_width": ""
          }
        },
        "74ae0e06fead4ad9a24631efeca428e5": {
          "model_module": "@jupyter-widgets/base",
          "model_name": "LayoutModel",
          "model_module_version": "1.2.0",
          "state": {
            "_model_module": "@jupyter-widgets/base",
            "_model_module_version": "1.2.0",
            "_model_name": "LayoutModel",
            "_view_count": null,
            "_view_module": "@jupyter-widgets/base",
            "_view_module_version": "1.2.0",
            "_view_name": "LayoutView",
            "align_content": null,
            "align_items": null,
            "align_self": null,
            "border": null,
            "bottom": null,
            "display": null,
            "flex": null,
            "flex_flow": null,
            "grid_area": null,
            "grid_auto_columns": null,
            "grid_auto_flow": null,
            "grid_auto_rows": null,
            "grid_column": null,
            "grid_gap": null,
            "grid_row": null,
            "grid_template_areas": null,
            "grid_template_columns": null,
            "grid_template_rows": null,
            "height": null,
            "justify_content": null,
            "justify_items": null,
            "left": null,
            "margin": null,
            "max_height": null,
            "max_width": null,
            "min_height": null,
            "min_width": null,
            "object_fit": null,
            "object_position": null,
            "order": null,
            "overflow": null,
            "overflow_x": null,
            "overflow_y": null,
            "padding": null,
            "right": null,
            "top": null,
            "visibility": null,
            "width": null
          }
        },
        "d70b583572914a169e0df87ce890980c": {
          "model_module": "@jupyter-widgets/controls",
          "model_name": "DescriptionStyleModel",
          "model_module_version": "1.5.0",
          "state": {
            "_model_module": "@jupyter-widgets/controls",
            "_model_module_version": "1.5.0",
            "_model_name": "DescriptionStyleModel",
            "_view_count": null,
            "_view_module": "@jupyter-widgets/base",
            "_view_module_version": "1.2.0",
            "_view_name": "StyleView",
            "description_width": ""
          }
        },
        "f210da5cc44a4153aa94931b6d269231": {
          "model_module": "@jupyter-widgets/controls",
          "model_name": "HBoxModel",
          "model_module_version": "1.5.0",
          "state": {
            "_dom_classes": [],
            "_model_module": "@jupyter-widgets/controls",
            "_model_module_version": "1.5.0",
            "_model_name": "HBoxModel",
            "_view_count": null,
            "_view_module": "@jupyter-widgets/controls",
            "_view_module_version": "1.5.0",
            "_view_name": "HBoxView",
            "box_style": "",
            "children": [
              "IPY_MODEL_87967ac59a40414a84acd5ce94459520",
              "IPY_MODEL_67772056cfeb4056be6e1c6f6eb94b7f",
              "IPY_MODEL_dd45d89474c14ac2ac211b141a70fb6c"
            ],
            "layout": "IPY_MODEL_ec429744da6441be9134691a218c3f47"
          }
        },
        "87967ac59a40414a84acd5ce94459520": {
          "model_module": "@jupyter-widgets/controls",
          "model_name": "HTMLModel",
          "model_module_version": "1.5.0",
          "state": {
            "_dom_classes": [],
            "_model_module": "@jupyter-widgets/controls",
            "_model_module_version": "1.5.0",
            "_model_name": "HTMLModel",
            "_view_count": null,
            "_view_module": "@jupyter-widgets/controls",
            "_view_module_version": "1.5.0",
            "_view_name": "HTMLView",
            "description": "",
            "description_tooltip": null,
            "layout": "IPY_MODEL_4754a862ef3e4303ad4b0d580ed51484",
            "placeholder": "​",
            "style": "IPY_MODEL_6465e9962200410c969da0882d236f73",
            "value": "tokenizer.json: 100%"
          }
        },
        "67772056cfeb4056be6e1c6f6eb94b7f": {
          "model_module": "@jupyter-widgets/controls",
          "model_name": "FloatProgressModel",
          "model_module_version": "1.5.0",
          "state": {
            "_dom_classes": [],
            "_model_module": "@jupyter-widgets/controls",
            "_model_module_version": "1.5.0",
            "_model_name": "FloatProgressModel",
            "_view_count": null,
            "_view_module": "@jupyter-widgets/controls",
            "_view_module_version": "1.5.0",
            "_view_name": "ProgressView",
            "bar_style": "success",
            "description": "",
            "description_tooltip": null,
            "layout": "IPY_MODEL_ee54da784d994259ad2a199eb127fdfb",
            "max": 466062,
            "min": 0,
            "orientation": "horizontal",
            "style": "IPY_MODEL_61f7f22d45db42bb99cdee290ef61c48",
            "value": 466062
          }
        },
        "dd45d89474c14ac2ac211b141a70fb6c": {
          "model_module": "@jupyter-widgets/controls",
          "model_name": "HTMLModel",
          "model_module_version": "1.5.0",
          "state": {
            "_dom_classes": [],
            "_model_module": "@jupyter-widgets/controls",
            "_model_module_version": "1.5.0",
            "_model_name": "HTMLModel",
            "_view_count": null,
            "_view_module": "@jupyter-widgets/controls",
            "_view_module_version": "1.5.0",
            "_view_name": "HTMLView",
            "description": "",
            "description_tooltip": null,
            "layout": "IPY_MODEL_1a3b3cb3182c4385828904ffc8773ef9",
            "placeholder": "​",
            "style": "IPY_MODEL_dd2a195969df4d68817963aeb590c6ff",
            "value": " 466k/466k [00:00&lt;00:00, 3.44MB/s]"
          }
        },
        "ec429744da6441be9134691a218c3f47": {
          "model_module": "@jupyter-widgets/base",
          "model_name": "LayoutModel",
          "model_module_version": "1.2.0",
          "state": {
            "_model_module": "@jupyter-widgets/base",
            "_model_module_version": "1.2.0",
            "_model_name": "LayoutModel",
            "_view_count": null,
            "_view_module": "@jupyter-widgets/base",
            "_view_module_version": "1.2.0",
            "_view_name": "LayoutView",
            "align_content": null,
            "align_items": null,
            "align_self": null,
            "border": null,
            "bottom": null,
            "display": null,
            "flex": null,
            "flex_flow": null,
            "grid_area": null,
            "grid_auto_columns": null,
            "grid_auto_flow": null,
            "grid_auto_rows": null,
            "grid_column": null,
            "grid_gap": null,
            "grid_row": null,
            "grid_template_areas": null,
            "grid_template_columns": null,
            "grid_template_rows": null,
            "height": null,
            "justify_content": null,
            "justify_items": null,
            "left": null,
            "margin": null,
            "max_height": null,
            "max_width": null,
            "min_height": null,
            "min_width": null,
            "object_fit": null,
            "object_position": null,
            "order": null,
            "overflow": null,
            "overflow_x": null,
            "overflow_y": null,
            "padding": null,
            "right": null,
            "top": null,
            "visibility": null,
            "width": null
          }
        },
        "4754a862ef3e4303ad4b0d580ed51484": {
          "model_module": "@jupyter-widgets/base",
          "model_name": "LayoutModel",
          "model_module_version": "1.2.0",
          "state": {
            "_model_module": "@jupyter-widgets/base",
            "_model_module_version": "1.2.0",
            "_model_name": "LayoutModel",
            "_view_count": null,
            "_view_module": "@jupyter-widgets/base",
            "_view_module_version": "1.2.0",
            "_view_name": "LayoutView",
            "align_content": null,
            "align_items": null,
            "align_self": null,
            "border": null,
            "bottom": null,
            "display": null,
            "flex": null,
            "flex_flow": null,
            "grid_area": null,
            "grid_auto_columns": null,
            "grid_auto_flow": null,
            "grid_auto_rows": null,
            "grid_column": null,
            "grid_gap": null,
            "grid_row": null,
            "grid_template_areas": null,
            "grid_template_columns": null,
            "grid_template_rows": null,
            "height": null,
            "justify_content": null,
            "justify_items": null,
            "left": null,
            "margin": null,
            "max_height": null,
            "max_width": null,
            "min_height": null,
            "min_width": null,
            "object_fit": null,
            "object_position": null,
            "order": null,
            "overflow": null,
            "overflow_x": null,
            "overflow_y": null,
            "padding": null,
            "right": null,
            "top": null,
            "visibility": null,
            "width": null
          }
        },
        "6465e9962200410c969da0882d236f73": {
          "model_module": "@jupyter-widgets/controls",
          "model_name": "DescriptionStyleModel",
          "model_module_version": "1.5.0",
          "state": {
            "_model_module": "@jupyter-widgets/controls",
            "_model_module_version": "1.5.0",
            "_model_name": "DescriptionStyleModel",
            "_view_count": null,
            "_view_module": "@jupyter-widgets/base",
            "_view_module_version": "1.2.0",
            "_view_name": "StyleView",
            "description_width": ""
          }
        },
        "ee54da784d994259ad2a199eb127fdfb": {
          "model_module": "@jupyter-widgets/base",
          "model_name": "LayoutModel",
          "model_module_version": "1.2.0",
          "state": {
            "_model_module": "@jupyter-widgets/base",
            "_model_module_version": "1.2.0",
            "_model_name": "LayoutModel",
            "_view_count": null,
            "_view_module": "@jupyter-widgets/base",
            "_view_module_version": "1.2.0",
            "_view_name": "LayoutView",
            "align_content": null,
            "align_items": null,
            "align_self": null,
            "border": null,
            "bottom": null,
            "display": null,
            "flex": null,
            "flex_flow": null,
            "grid_area": null,
            "grid_auto_columns": null,
            "grid_auto_flow": null,
            "grid_auto_rows": null,
            "grid_column": null,
            "grid_gap": null,
            "grid_row": null,
            "grid_template_areas": null,
            "grid_template_columns": null,
            "grid_template_rows": null,
            "height": null,
            "justify_content": null,
            "justify_items": null,
            "left": null,
            "margin": null,
            "max_height": null,
            "max_width": null,
            "min_height": null,
            "min_width": null,
            "object_fit": null,
            "object_position": null,
            "order": null,
            "overflow": null,
            "overflow_x": null,
            "overflow_y": null,
            "padding": null,
            "right": null,
            "top": null,
            "visibility": null,
            "width": null
          }
        },
        "61f7f22d45db42bb99cdee290ef61c48": {
          "model_module": "@jupyter-widgets/controls",
          "model_name": "ProgressStyleModel",
          "model_module_version": "1.5.0",
          "state": {
            "_model_module": "@jupyter-widgets/controls",
            "_model_module_version": "1.5.0",
            "_model_name": "ProgressStyleModel",
            "_view_count": null,
            "_view_module": "@jupyter-widgets/base",
            "_view_module_version": "1.2.0",
            "_view_name": "StyleView",
            "bar_color": null,
            "description_width": ""
          }
        },
        "1a3b3cb3182c4385828904ffc8773ef9": {
          "model_module": "@jupyter-widgets/base",
          "model_name": "LayoutModel",
          "model_module_version": "1.2.0",
          "state": {
            "_model_module": "@jupyter-widgets/base",
            "_model_module_version": "1.2.0",
            "_model_name": "LayoutModel",
            "_view_count": null,
            "_view_module": "@jupyter-widgets/base",
            "_view_module_version": "1.2.0",
            "_view_name": "LayoutView",
            "align_content": null,
            "align_items": null,
            "align_self": null,
            "border": null,
            "bottom": null,
            "display": null,
            "flex": null,
            "flex_flow": null,
            "grid_area": null,
            "grid_auto_columns": null,
            "grid_auto_flow": null,
            "grid_auto_rows": null,
            "grid_column": null,
            "grid_gap": null,
            "grid_row": null,
            "grid_template_areas": null,
            "grid_template_columns": null,
            "grid_template_rows": null,
            "height": null,
            "justify_content": null,
            "justify_items": null,
            "left": null,
            "margin": null,
            "max_height": null,
            "max_width": null,
            "min_height": null,
            "min_width": null,
            "object_fit": null,
            "object_position": null,
            "order": null,
            "overflow": null,
            "overflow_x": null,
            "overflow_y": null,
            "padding": null,
            "right": null,
            "top": null,
            "visibility": null,
            "width": null
          }
        },
        "dd2a195969df4d68817963aeb590c6ff": {
          "model_module": "@jupyter-widgets/controls",
          "model_name": "DescriptionStyleModel",
          "model_module_version": "1.5.0",
          "state": {
            "_model_module": "@jupyter-widgets/controls",
            "_model_module_version": "1.5.0",
            "_model_name": "DescriptionStyleModel",
            "_view_count": null,
            "_view_module": "@jupyter-widgets/base",
            "_view_module_version": "1.2.0",
            "_view_name": "StyleView",
            "description_width": ""
          }
        },
        "7265e87223c34d0081f60aee70a4da12": {
          "model_module": "@jupyter-widgets/controls",
          "model_name": "HBoxModel",
          "model_module_version": "1.5.0",
          "state": {
            "_dom_classes": [],
            "_model_module": "@jupyter-widgets/controls",
            "_model_module_version": "1.5.0",
            "_model_name": "HBoxModel",
            "_view_count": null,
            "_view_module": "@jupyter-widgets/controls",
            "_view_module_version": "1.5.0",
            "_view_name": "HBoxView",
            "box_style": "",
            "children": [
              "IPY_MODEL_5336317982f14be0b91c575605acfea7",
              "IPY_MODEL_eceab6cb56d042d09c4cc93ccc5758e7",
              "IPY_MODEL_d56c8640d5734b53b4a21d096f4a9384"
            ],
            "layout": "IPY_MODEL_0ce4d04077bd4a129106ec02ea80d802"
          }
        },
        "5336317982f14be0b91c575605acfea7": {
          "model_module": "@jupyter-widgets/controls",
          "model_name": "HTMLModel",
          "model_module_version": "1.5.0",
          "state": {
            "_dom_classes": [],
            "_model_module": "@jupyter-widgets/controls",
            "_model_module_version": "1.5.0",
            "_model_name": "HTMLModel",
            "_view_count": null,
            "_view_module": "@jupyter-widgets/controls",
            "_view_module_version": "1.5.0",
            "_view_name": "HTMLView",
            "description": "",
            "description_tooltip": null,
            "layout": "IPY_MODEL_7683ece95e1048a4b34d0891ce897f49",
            "placeholder": "​",
            "style": "IPY_MODEL_d3c41e6a992449b6ae74581f6245925a",
            "value": "config.json: 100%"
          }
        },
        "eceab6cb56d042d09c4cc93ccc5758e7": {
          "model_module": "@jupyter-widgets/controls",
          "model_name": "FloatProgressModel",
          "model_module_version": "1.5.0",
          "state": {
            "_dom_classes": [],
            "_model_module": "@jupyter-widgets/controls",
            "_model_module_version": "1.5.0",
            "_model_name": "FloatProgressModel",
            "_view_count": null,
            "_view_module": "@jupyter-widgets/controls",
            "_view_module_version": "1.5.0",
            "_view_name": "ProgressView",
            "bar_style": "success",
            "description": "",
            "description_tooltip": null,
            "layout": "IPY_MODEL_0c03007e19f44b3f92e3a41946896a35",
            "max": 570,
            "min": 0,
            "orientation": "horizontal",
            "style": "IPY_MODEL_75d38081099f4cbe87bf208fc8e4ac9e",
            "value": 570
          }
        },
        "d56c8640d5734b53b4a21d096f4a9384": {
          "model_module": "@jupyter-widgets/controls",
          "model_name": "HTMLModel",
          "model_module_version": "1.5.0",
          "state": {
            "_dom_classes": [],
            "_model_module": "@jupyter-widgets/controls",
            "_model_module_version": "1.5.0",
            "_model_name": "HTMLModel",
            "_view_count": null,
            "_view_module": "@jupyter-widgets/controls",
            "_view_module_version": "1.5.0",
            "_view_name": "HTMLView",
            "description": "",
            "description_tooltip": null,
            "layout": "IPY_MODEL_2e47c856f530403caac767b7feabb39a",
            "placeholder": "​",
            "style": "IPY_MODEL_715c4b543e02423fac0163775d44eb61",
            "value": " 570/570 [00:00&lt;00:00, 28.6kB/s]"
          }
        },
        "0ce4d04077bd4a129106ec02ea80d802": {
          "model_module": "@jupyter-widgets/base",
          "model_name": "LayoutModel",
          "model_module_version": "1.2.0",
          "state": {
            "_model_module": "@jupyter-widgets/base",
            "_model_module_version": "1.2.0",
            "_model_name": "LayoutModel",
            "_view_count": null,
            "_view_module": "@jupyter-widgets/base",
            "_view_module_version": "1.2.0",
            "_view_name": "LayoutView",
            "align_content": null,
            "align_items": null,
            "align_self": null,
            "border": null,
            "bottom": null,
            "display": null,
            "flex": null,
            "flex_flow": null,
            "grid_area": null,
            "grid_auto_columns": null,
            "grid_auto_flow": null,
            "grid_auto_rows": null,
            "grid_column": null,
            "grid_gap": null,
            "grid_row": null,
            "grid_template_areas": null,
            "grid_template_columns": null,
            "grid_template_rows": null,
            "height": null,
            "justify_content": null,
            "justify_items": null,
            "left": null,
            "margin": null,
            "max_height": null,
            "max_width": null,
            "min_height": null,
            "min_width": null,
            "object_fit": null,
            "object_position": null,
            "order": null,
            "overflow": null,
            "overflow_x": null,
            "overflow_y": null,
            "padding": null,
            "right": null,
            "top": null,
            "visibility": null,
            "width": null
          }
        },
        "7683ece95e1048a4b34d0891ce897f49": {
          "model_module": "@jupyter-widgets/base",
          "model_name": "LayoutModel",
          "model_module_version": "1.2.0",
          "state": {
            "_model_module": "@jupyter-widgets/base",
            "_model_module_version": "1.2.0",
            "_model_name": "LayoutModel",
            "_view_count": null,
            "_view_module": "@jupyter-widgets/base",
            "_view_module_version": "1.2.0",
            "_view_name": "LayoutView",
            "align_content": null,
            "align_items": null,
            "align_self": null,
            "border": null,
            "bottom": null,
            "display": null,
            "flex": null,
            "flex_flow": null,
            "grid_area": null,
            "grid_auto_columns": null,
            "grid_auto_flow": null,
            "grid_auto_rows": null,
            "grid_column": null,
            "grid_gap": null,
            "grid_row": null,
            "grid_template_areas": null,
            "grid_template_columns": null,
            "grid_template_rows": null,
            "height": null,
            "justify_content": null,
            "justify_items": null,
            "left": null,
            "margin": null,
            "max_height": null,
            "max_width": null,
            "min_height": null,
            "min_width": null,
            "object_fit": null,
            "object_position": null,
            "order": null,
            "overflow": null,
            "overflow_x": null,
            "overflow_y": null,
            "padding": null,
            "right": null,
            "top": null,
            "visibility": null,
            "width": null
          }
        },
        "d3c41e6a992449b6ae74581f6245925a": {
          "model_module": "@jupyter-widgets/controls",
          "model_name": "DescriptionStyleModel",
          "model_module_version": "1.5.0",
          "state": {
            "_model_module": "@jupyter-widgets/controls",
            "_model_module_version": "1.5.0",
            "_model_name": "DescriptionStyleModel",
            "_view_count": null,
            "_view_module": "@jupyter-widgets/base",
            "_view_module_version": "1.2.0",
            "_view_name": "StyleView",
            "description_width": ""
          }
        },
        "0c03007e19f44b3f92e3a41946896a35": {
          "model_module": "@jupyter-widgets/base",
          "model_name": "LayoutModel",
          "model_module_version": "1.2.0",
          "state": {
            "_model_module": "@jupyter-widgets/base",
            "_model_module_version": "1.2.0",
            "_model_name": "LayoutModel",
            "_view_count": null,
            "_view_module": "@jupyter-widgets/base",
            "_view_module_version": "1.2.0",
            "_view_name": "LayoutView",
            "align_content": null,
            "align_items": null,
            "align_self": null,
            "border": null,
            "bottom": null,
            "display": null,
            "flex": null,
            "flex_flow": null,
            "grid_area": null,
            "grid_auto_columns": null,
            "grid_auto_flow": null,
            "grid_auto_rows": null,
            "grid_column": null,
            "grid_gap": null,
            "grid_row": null,
            "grid_template_areas": null,
            "grid_template_columns": null,
            "grid_template_rows": null,
            "height": null,
            "justify_content": null,
            "justify_items": null,
            "left": null,
            "margin": null,
            "max_height": null,
            "max_width": null,
            "min_height": null,
            "min_width": null,
            "object_fit": null,
            "object_position": null,
            "order": null,
            "overflow": null,
            "overflow_x": null,
            "overflow_y": null,
            "padding": null,
            "right": null,
            "top": null,
            "visibility": null,
            "width": null
          }
        },
        "75d38081099f4cbe87bf208fc8e4ac9e": {
          "model_module": "@jupyter-widgets/controls",
          "model_name": "ProgressStyleModel",
          "model_module_version": "1.5.0",
          "state": {
            "_model_module": "@jupyter-widgets/controls",
            "_model_module_version": "1.5.0",
            "_model_name": "ProgressStyleModel",
            "_view_count": null,
            "_view_module": "@jupyter-widgets/base",
            "_view_module_version": "1.2.0",
            "_view_name": "StyleView",
            "bar_color": null,
            "description_width": ""
          }
        },
        "2e47c856f530403caac767b7feabb39a": {
          "model_module": "@jupyter-widgets/base",
          "model_name": "LayoutModel",
          "model_module_version": "1.2.0",
          "state": {
            "_model_module": "@jupyter-widgets/base",
            "_model_module_version": "1.2.0",
            "_model_name": "LayoutModel",
            "_view_count": null,
            "_view_module": "@jupyter-widgets/base",
            "_view_module_version": "1.2.0",
            "_view_name": "LayoutView",
            "align_content": null,
            "align_items": null,
            "align_self": null,
            "border": null,
            "bottom": null,
            "display": null,
            "flex": null,
            "flex_flow": null,
            "grid_area": null,
            "grid_auto_columns": null,
            "grid_auto_flow": null,
            "grid_auto_rows": null,
            "grid_column": null,
            "grid_gap": null,
            "grid_row": null,
            "grid_template_areas": null,
            "grid_template_columns": null,
            "grid_template_rows": null,
            "height": null,
            "justify_content": null,
            "justify_items": null,
            "left": null,
            "margin": null,
            "max_height": null,
            "max_width": null,
            "min_height": null,
            "min_width": null,
            "object_fit": null,
            "object_position": null,
            "order": null,
            "overflow": null,
            "overflow_x": null,
            "overflow_y": null,
            "padding": null,
            "right": null,
            "top": null,
            "visibility": null,
            "width": null
          }
        },
        "715c4b543e02423fac0163775d44eb61": {
          "model_module": "@jupyter-widgets/controls",
          "model_name": "DescriptionStyleModel",
          "model_module_version": "1.5.0",
          "state": {
            "_model_module": "@jupyter-widgets/controls",
            "_model_module_version": "1.5.0",
            "_model_name": "DescriptionStyleModel",
            "_view_count": null,
            "_view_module": "@jupyter-widgets/base",
            "_view_module_version": "1.2.0",
            "_view_name": "StyleView",
            "description_width": ""
          }
        },
        "c65dfb54f9cc4ea1a00936a217f69314": {
          "model_module": "@jupyter-widgets/controls",
          "model_name": "HBoxModel",
          "model_module_version": "1.5.0",
          "state": {
            "_dom_classes": [],
            "_model_module": "@jupyter-widgets/controls",
            "_model_module_version": "1.5.0",
            "_model_name": "HBoxModel",
            "_view_count": null,
            "_view_module": "@jupyter-widgets/controls",
            "_view_module_version": "1.5.0",
            "_view_name": "HBoxView",
            "box_style": "",
            "children": [
              "IPY_MODEL_bcd8611f0c3f472187bcb5e0d74ed94a",
              "IPY_MODEL_72de840c34654b1ba33ce5ac988663e6",
              "IPY_MODEL_eba3068f815448d19b6b227d054ce2a9"
            ],
            "layout": "IPY_MODEL_5fad8dfe705f47ff9f69ebd196d3281f"
          }
        },
        "bcd8611f0c3f472187bcb5e0d74ed94a": {
          "model_module": "@jupyter-widgets/controls",
          "model_name": "HTMLModel",
          "model_module_version": "1.5.0",
          "state": {
            "_dom_classes": [],
            "_model_module": "@jupyter-widgets/controls",
            "_model_module_version": "1.5.0",
            "_model_name": "HTMLModel",
            "_view_count": null,
            "_view_module": "@jupyter-widgets/controls",
            "_view_module_version": "1.5.0",
            "_view_name": "HTMLView",
            "description": "",
            "description_tooltip": null,
            "layout": "IPY_MODEL_57ca0cbd1e1640539df939d0bc5a0701",
            "placeholder": "​",
            "style": "IPY_MODEL_ff57d7001bdd4ee3a3ea1c68a88d6db8",
            "value": "model.safetensors: 100%"
          }
        },
        "72de840c34654b1ba33ce5ac988663e6": {
          "model_module": "@jupyter-widgets/controls",
          "model_name": "FloatProgressModel",
          "model_module_version": "1.5.0",
          "state": {
            "_dom_classes": [],
            "_model_module": "@jupyter-widgets/controls",
            "_model_module_version": "1.5.0",
            "_model_name": "FloatProgressModel",
            "_view_count": null,
            "_view_module": "@jupyter-widgets/controls",
            "_view_module_version": "1.5.0",
            "_view_name": "ProgressView",
            "bar_style": "success",
            "description": "",
            "description_tooltip": null,
            "layout": "IPY_MODEL_b4eeb4bc13074c869e3115404bdbda78",
            "max": 440449768,
            "min": 0,
            "orientation": "horizontal",
            "style": "IPY_MODEL_5fc9fac062834e40bff9f85d04783d81",
            "value": 440449768
          }
        },
        "eba3068f815448d19b6b227d054ce2a9": {
          "model_module": "@jupyter-widgets/controls",
          "model_name": "HTMLModel",
          "model_module_version": "1.5.0",
          "state": {
            "_dom_classes": [],
            "_model_module": "@jupyter-widgets/controls",
            "_model_module_version": "1.5.0",
            "_model_name": "HTMLModel",
            "_view_count": null,
            "_view_module": "@jupyter-widgets/controls",
            "_view_module_version": "1.5.0",
            "_view_name": "HTMLView",
            "description": "",
            "description_tooltip": null,
            "layout": "IPY_MODEL_313533a7d4964dbfafabcdf745213ba2",
            "placeholder": "​",
            "style": "IPY_MODEL_9d73ab93f1144e37a1d7e84e14deba1a",
            "value": " 440M/440M [00:06&lt;00:00, 42.5MB/s]"
          }
        },
        "5fad8dfe705f47ff9f69ebd196d3281f": {
          "model_module": "@jupyter-widgets/base",
          "model_name": "LayoutModel",
          "model_module_version": "1.2.0",
          "state": {
            "_model_module": "@jupyter-widgets/base",
            "_model_module_version": "1.2.0",
            "_model_name": "LayoutModel",
            "_view_count": null,
            "_view_module": "@jupyter-widgets/base",
            "_view_module_version": "1.2.0",
            "_view_name": "LayoutView",
            "align_content": null,
            "align_items": null,
            "align_self": null,
            "border": null,
            "bottom": null,
            "display": null,
            "flex": null,
            "flex_flow": null,
            "grid_area": null,
            "grid_auto_columns": null,
            "grid_auto_flow": null,
            "grid_auto_rows": null,
            "grid_column": null,
            "grid_gap": null,
            "grid_row": null,
            "grid_template_areas": null,
            "grid_template_columns": null,
            "grid_template_rows": null,
            "height": null,
            "justify_content": null,
            "justify_items": null,
            "left": null,
            "margin": null,
            "max_height": null,
            "max_width": null,
            "min_height": null,
            "min_width": null,
            "object_fit": null,
            "object_position": null,
            "order": null,
            "overflow": null,
            "overflow_x": null,
            "overflow_y": null,
            "padding": null,
            "right": null,
            "top": null,
            "visibility": null,
            "width": null
          }
        },
        "57ca0cbd1e1640539df939d0bc5a0701": {
          "model_module": "@jupyter-widgets/base",
          "model_name": "LayoutModel",
          "model_module_version": "1.2.0",
          "state": {
            "_model_module": "@jupyter-widgets/base",
            "_model_module_version": "1.2.0",
            "_model_name": "LayoutModel",
            "_view_count": null,
            "_view_module": "@jupyter-widgets/base",
            "_view_module_version": "1.2.0",
            "_view_name": "LayoutView",
            "align_content": null,
            "align_items": null,
            "align_self": null,
            "border": null,
            "bottom": null,
            "display": null,
            "flex": null,
            "flex_flow": null,
            "grid_area": null,
            "grid_auto_columns": null,
            "grid_auto_flow": null,
            "grid_auto_rows": null,
            "grid_column": null,
            "grid_gap": null,
            "grid_row": null,
            "grid_template_areas": null,
            "grid_template_columns": null,
            "grid_template_rows": null,
            "height": null,
            "justify_content": null,
            "justify_items": null,
            "left": null,
            "margin": null,
            "max_height": null,
            "max_width": null,
            "min_height": null,
            "min_width": null,
            "object_fit": null,
            "object_position": null,
            "order": null,
            "overflow": null,
            "overflow_x": null,
            "overflow_y": null,
            "padding": null,
            "right": null,
            "top": null,
            "visibility": null,
            "width": null
          }
        },
        "ff57d7001bdd4ee3a3ea1c68a88d6db8": {
          "model_module": "@jupyter-widgets/controls",
          "model_name": "DescriptionStyleModel",
          "model_module_version": "1.5.0",
          "state": {
            "_model_module": "@jupyter-widgets/controls",
            "_model_module_version": "1.5.0",
            "_model_name": "DescriptionStyleModel",
            "_view_count": null,
            "_view_module": "@jupyter-widgets/base",
            "_view_module_version": "1.2.0",
            "_view_name": "StyleView",
            "description_width": ""
          }
        },
        "b4eeb4bc13074c869e3115404bdbda78": {
          "model_module": "@jupyter-widgets/base",
          "model_name": "LayoutModel",
          "model_module_version": "1.2.0",
          "state": {
            "_model_module": "@jupyter-widgets/base",
            "_model_module_version": "1.2.0",
            "_model_name": "LayoutModel",
            "_view_count": null,
            "_view_module": "@jupyter-widgets/base",
            "_view_module_version": "1.2.0",
            "_view_name": "LayoutView",
            "align_content": null,
            "align_items": null,
            "align_self": null,
            "border": null,
            "bottom": null,
            "display": null,
            "flex": null,
            "flex_flow": null,
            "grid_area": null,
            "grid_auto_columns": null,
            "grid_auto_flow": null,
            "grid_auto_rows": null,
            "grid_column": null,
            "grid_gap": null,
            "grid_row": null,
            "grid_template_areas": null,
            "grid_template_columns": null,
            "grid_template_rows": null,
            "height": null,
            "justify_content": null,
            "justify_items": null,
            "left": null,
            "margin": null,
            "max_height": null,
            "max_width": null,
            "min_height": null,
            "min_width": null,
            "object_fit": null,
            "object_position": null,
            "order": null,
            "overflow": null,
            "overflow_x": null,
            "overflow_y": null,
            "padding": null,
            "right": null,
            "top": null,
            "visibility": null,
            "width": null
          }
        },
        "5fc9fac062834e40bff9f85d04783d81": {
          "model_module": "@jupyter-widgets/controls",
          "model_name": "ProgressStyleModel",
          "model_module_version": "1.5.0",
          "state": {
            "_model_module": "@jupyter-widgets/controls",
            "_model_module_version": "1.5.0",
            "_model_name": "ProgressStyleModel",
            "_view_count": null,
            "_view_module": "@jupyter-widgets/base",
            "_view_module_version": "1.2.0",
            "_view_name": "StyleView",
            "bar_color": null,
            "description_width": ""
          }
        },
        "313533a7d4964dbfafabcdf745213ba2": {
          "model_module": "@jupyter-widgets/base",
          "model_name": "LayoutModel",
          "model_module_version": "1.2.0",
          "state": {
            "_model_module": "@jupyter-widgets/base",
            "_model_module_version": "1.2.0",
            "_model_name": "LayoutModel",
            "_view_count": null,
            "_view_module": "@jupyter-widgets/base",
            "_view_module_version": "1.2.0",
            "_view_name": "LayoutView",
            "align_content": null,
            "align_items": null,
            "align_self": null,
            "border": null,
            "bottom": null,
            "display": null,
            "flex": null,
            "flex_flow": null,
            "grid_area": null,
            "grid_auto_columns": null,
            "grid_auto_flow": null,
            "grid_auto_rows": null,
            "grid_column": null,
            "grid_gap": null,
            "grid_row": null,
            "grid_template_areas": null,
            "grid_template_columns": null,
            "grid_template_rows": null,
            "height": null,
            "justify_content": null,
            "justify_items": null,
            "left": null,
            "margin": null,
            "max_height": null,
            "max_width": null,
            "min_height": null,
            "min_width": null,
            "object_fit": null,
            "object_position": null,
            "order": null,
            "overflow": null,
            "overflow_x": null,
            "overflow_y": null,
            "padding": null,
            "right": null,
            "top": null,
            "visibility": null,
            "width": null
          }
        },
        "9d73ab93f1144e37a1d7e84e14deba1a": {
          "model_module": "@jupyter-widgets/controls",
          "model_name": "DescriptionStyleModel",
          "model_module_version": "1.5.0",
          "state": {
            "_model_module": "@jupyter-widgets/controls",
            "_model_module_version": "1.5.0",
            "_model_name": "DescriptionStyleModel",
            "_view_count": null,
            "_view_module": "@jupyter-widgets/base",
            "_view_module_version": "1.2.0",
            "_view_name": "StyleView",
            "description_width": ""
          }
        }
      }
    }
  },
  "nbformat": 4,
  "nbformat_minor": 0
}